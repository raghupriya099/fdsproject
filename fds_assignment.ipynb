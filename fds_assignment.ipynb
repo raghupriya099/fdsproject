{
  "nbformat": 4,
  "nbformat_minor": 0,
  "metadata": {
    "colab": {
      "provenance": [],
      "authorship_tag": "ABX9TyM8q8bnLi6ddzFdgsQWeuNH",
      "include_colab_link": true
    },
    "kernelspec": {
      "name": "python3",
      "display_name": "Python 3"
    },
    "language_info": {
      "name": "python"
    }
  },
  "cells": [
    {
      "cell_type": "markdown",
      "metadata": {
        "id": "view-in-github",
        "colab_type": "text"
      },
      "source": [
        "<a href=\"https://colab.research.google.com/github/raghupriya099/fdsproject/blob/main/fds_assignment.ipynb\" target=\"_parent\"><img src=\"https://colab.research.google.com/assets/colab-badge.svg\" alt=\"Open In Colab\"/></a>"
      ]
    },
    {
      "cell_type": "code",
      "metadata": {
        "colab": {
          "base_uri": "https://localhost:8080/"
        },
        "id": "nhwxHs2E_5Xb",
        "outputId": "41c428d3-ffff-4687-f0f3-fd32b14e7dbb"
      },
      "source": [
        "import numpy as np\n",
        "import pandas as pd\n",
        "import matplotlib.pyplot as plt\n",
        "import seaborn as sns\n",
        "\n",
        "%matplotlib inline\n",
        "\n",
        "import os\n",
        "print(os.listdir())\n",
        "\n",
        "import warnings\n",
        "warnings.filterwarnings('ignore')"
      ],
      "execution_count": null,
      "outputs": [
        {
          "output_type": "stream",
          "text": [
            "['.config', 'diabetes_data_upload.csv', 'sample_data']\n"
          ],
          "name": "stdout"
        }
      ]
    },
    {
      "cell_type": "code",
      "metadata": {
        "colab": {
          "base_uri": "https://localhost:8080/",
          "height": 1000
        },
        "id": "OOSj-HNMBV_I",
        "outputId": "1ca6abb3-6c69-4aea-ba73-f82045c56e88"
      },
      "source": [
        "import sys\n",
        "\n",
        "# If you're on Colab:\n",
        "if 'google.colab' in sys.modules:\n",
        "    DATA_PATH = 'https://raw.githubusercontent.com/LambdaSchool/DS-Unit-2-Applied-Modeling/master/data/'\n",
        "    !pip install category_encoders==2.*\n",
        "    !pip install pandas-profiling==2.*\n",
        "    !pip install pdpbox\n",
        "    !pip install shap\n",
        "    !pip install eli5\n"
      ],
      "execution_count": null,
      "outputs": [
        {
          "output_type": "stream",
          "text": [
            "Requirement already satisfied: category_encoders==2.* in /usr/local/lib/python3.7/dist-packages (2.2.2)\n",
            "Requirement already satisfied: scipy>=1.0.0 in /usr/local/lib/python3.7/dist-packages (from category_encoders==2.*) (1.4.1)\n",
            "Requirement already satisfied: statsmodels>=0.9.0 in /usr/local/lib/python3.7/dist-packages (from category_encoders==2.*) (0.10.2)\n",
            "Requirement already satisfied: numpy>=1.14.0 in /usr/local/lib/python3.7/dist-packages (from category_encoders==2.*) (1.19.5)\n",
            "Requirement already satisfied: scikit-learn>=0.20.0 in /usr/local/lib/python3.7/dist-packages (from category_encoders==2.*) (0.22.2.post1)\n",
            "Requirement already satisfied: pandas>=0.21.1 in /usr/local/lib/python3.7/dist-packages (from category_encoders==2.*) (1.1.5)\n",
            "Requirement already satisfied: patsy>=0.5.1 in /usr/local/lib/python3.7/dist-packages (from category_encoders==2.*) (0.5.1)\n",
            "Requirement already satisfied: joblib>=0.11 in /usr/local/lib/python3.7/dist-packages (from scikit-learn>=0.20.0->category_encoders==2.*) (1.0.1)\n",
            "Requirement already satisfied: pytz>=2017.2 in /usr/local/lib/python3.7/dist-packages (from pandas>=0.21.1->category_encoders==2.*) (2018.9)\n",
            "Requirement already satisfied: python-dateutil>=2.7.3 in /usr/local/lib/python3.7/dist-packages (from pandas>=0.21.1->category_encoders==2.*) (2.8.1)\n",
            "Requirement already satisfied: six in /usr/local/lib/python3.7/dist-packages (from patsy>=0.5.1->category_encoders==2.*) (1.15.0)\n",
            "Requirement already satisfied: pandas-profiling==2.* in /usr/local/lib/python3.7/dist-packages (2.12.0)\n",
            "Requirement already satisfied: tangled-up-in-unicode>=0.0.6 in /usr/local/lib/python3.7/dist-packages (from pandas-profiling==2.*) (0.0.7)\n",
            "Requirement already satisfied: jinja2>=2.11.1 in /usr/local/lib/python3.7/dist-packages (from pandas-profiling==2.*) (2.11.3)\n",
            "Requirement already satisfied: joblib in /usr/local/lib/python3.7/dist-packages (from pandas-profiling==2.*) (1.0.1)\n",
            "Requirement already satisfied: missingno>=0.4.2 in /usr/local/lib/python3.7/dist-packages (from pandas-profiling==2.*) (0.4.2)\n",
            "Requirement already satisfied: tqdm>=4.48.2 in /usr/local/lib/python3.7/dist-packages (from pandas-profiling==2.*) (4.60.0)\n",
            "Requirement already satisfied: seaborn>=0.10.1 in /usr/local/lib/python3.7/dist-packages (from pandas-profiling==2.*) (0.11.1)\n",
            "Requirement already satisfied: scipy>=1.4.1 in /usr/local/lib/python3.7/dist-packages (from pandas-profiling==2.*) (1.4.1)\n",
            "Requirement already satisfied: confuse>=1.0.0 in /usr/local/lib/python3.7/dist-packages (from pandas-profiling==2.*) (1.4.0)\n",
            "Requirement already satisfied: phik>=0.11.1 in /usr/local/lib/python3.7/dist-packages (from pandas-profiling==2.*) (0.11.2)\n",
            "Requirement already satisfied: attrs>=19.3.0 in /usr/local/lib/python3.7/dist-packages (from pandas-profiling==2.*) (20.3.0)\n",
            "Requirement already satisfied: numpy>=1.16.0 in /usr/local/lib/python3.7/dist-packages (from pandas-profiling==2.*) (1.19.5)\n",
            "Requirement already satisfied: requests>=2.24.0 in /usr/local/lib/python3.7/dist-packages (from pandas-profiling==2.*) (2.25.1)\n",
            "Collecting matplotlib>=3.2.0\n",
            "\u001b[?25l  Downloading https://files.pythonhosted.org/packages/ce/63/74c0b6184b6b169b121bb72458818ee60a7d7c436d7b1907bd5874188c55/matplotlib-3.4.1-cp37-cp37m-manylinux1_x86_64.whl (10.3MB)\n",
            "\u001b[K     |████████████████████████████████| 10.3MB 3.7MB/s \n",
            "\u001b[?25hRequirement already satisfied: htmlmin>=0.1.12 in /usr/local/lib/python3.7/dist-packages (from pandas-profiling==2.*) (0.1.12)\n",
            "Requirement already satisfied: pandas!=1.0.0,!=1.0.1,!=1.0.2,!=1.1.0,>=0.25.3 in /usr/local/lib/python3.7/dist-packages (from pandas-profiling==2.*) (1.1.5)\n",
            "Requirement already satisfied: visions[type_image_path]==0.6.0 in /usr/local/lib/python3.7/dist-packages (from pandas-profiling==2.*) (0.6.0)\n",
            "Requirement already satisfied: MarkupSafe>=0.23 in /usr/local/lib/python3.7/dist-packages (from jinja2>=2.11.1->pandas-profiling==2.*) (1.1.1)\n",
            "Requirement already satisfied: pyyaml in /usr/local/lib/python3.7/dist-packages (from confuse>=1.0.0->pandas-profiling==2.*) (3.13)\n",
            "Requirement already satisfied: certifi>=2017.4.17 in /usr/local/lib/python3.7/dist-packages (from requests>=2.24.0->pandas-profiling==2.*) (2020.12.5)\n",
            "Requirement already satisfied: idna<3,>=2.5 in /usr/local/lib/python3.7/dist-packages (from requests>=2.24.0->pandas-profiling==2.*) (2.10)\n",
            "Requirement already satisfied: chardet<5,>=3.0.2 in /usr/local/lib/python3.7/dist-packages (from requests>=2.24.0->pandas-profiling==2.*) (3.0.4)\n",
            "Requirement already satisfied: urllib3<1.27,>=1.21.1 in /usr/local/lib/python3.7/dist-packages (from requests>=2.24.0->pandas-profiling==2.*) (1.24.3)\n",
            "Requirement already satisfied: cycler>=0.10 in /usr/local/lib/python3.7/dist-packages (from matplotlib>=3.2.0->pandas-profiling==2.*) (0.10.0)\n",
            "Requirement already satisfied: pyparsing>=2.2.1 in /usr/local/lib/python3.7/dist-packages (from matplotlib>=3.2.0->pandas-profiling==2.*) (2.4.7)\n",
            "Requirement already satisfied: kiwisolver>=1.0.1 in /usr/local/lib/python3.7/dist-packages (from matplotlib>=3.2.0->pandas-profiling==2.*) (1.3.1)\n",
            "Requirement already satisfied: python-dateutil>=2.7 in /usr/local/lib/python3.7/dist-packages (from matplotlib>=3.2.0->pandas-profiling==2.*) (2.8.1)\n",
            "Requirement already satisfied: pillow>=6.2.0 in /usr/local/lib/python3.7/dist-packages (from matplotlib>=3.2.0->pandas-profiling==2.*) (7.1.2)\n",
            "Requirement already satisfied: pytz>=2017.2 in /usr/local/lib/python3.7/dist-packages (from pandas!=1.0.0,!=1.0.1,!=1.0.2,!=1.1.0,>=0.25.3->pandas-profiling==2.*) (2018.9)\n",
            "Requirement already satisfied: networkx>=2.4 in /usr/local/lib/python3.7/dist-packages (from visions[type_image_path]==0.6.0->pandas-profiling==2.*) (2.5.1)\n",
            "Requirement already satisfied: imagehash; extra == \"type_image_path\" in /usr/local/lib/python3.7/dist-packages (from visions[type_image_path]==0.6.0->pandas-profiling==2.*) (4.2.0)\n",
            "Requirement already satisfied: six in /usr/local/lib/python3.7/dist-packages (from cycler>=0.10->matplotlib>=3.2.0->pandas-profiling==2.*) (1.15.0)\n",
            "Requirement already satisfied: decorator<5,>=4.3 in /usr/local/lib/python3.7/dist-packages (from networkx>=2.4->visions[type_image_path]==0.6.0->pandas-profiling==2.*) (4.4.2)\n",
            "Requirement already satisfied: PyWavelets in /usr/local/lib/python3.7/dist-packages (from imagehash; extra == \"type_image_path\"->visions[type_image_path]==0.6.0->pandas-profiling==2.*) (1.1.1)\n",
            "\u001b[31mERROR: phik 0.11.2 has requirement scipy>=1.5.2, but you'll have scipy 1.4.1 which is incompatible.\u001b[0m\n",
            "\u001b[31mERROR: pdpbox 0.2.1 has requirement matplotlib==3.1.1, but you'll have matplotlib 3.4.1 which is incompatible.\u001b[0m\n",
            "\u001b[31mERROR: albumentations 0.1.12 has requirement imgaug<0.2.7,>=0.2.5, but you'll have imgaug 0.2.9 which is incompatible.\u001b[0m\n",
            "Installing collected packages: matplotlib\n",
            "  Found existing installation: matplotlib 3.1.1\n",
            "    Uninstalling matplotlib-3.1.1:\n",
            "      Successfully uninstalled matplotlib-3.1.1\n",
            "Successfully installed matplotlib-3.4.1\n"
          ],
          "name": "stdout"
        },
        {
          "output_type": "display_data",
          "data": {
            "application/vnd.colab-display-data+json": {
              "pip_warning": {
                "packages": [
                  "matplotlib",
                  "mpl_toolkits"
                ]
              }
            }
          },
          "metadata": {
            "tags": []
          }
        },
        {
          "output_type": "stream",
          "text": [
            "Requirement already satisfied: pdpbox in /usr/local/lib/python3.7/dist-packages (0.2.1)\n",
            "Requirement already satisfied: sklearn in /usr/local/lib/python3.7/dist-packages (from pdpbox) (0.0)\n",
            "Requirement already satisfied: scipy in /usr/local/lib/python3.7/dist-packages (from pdpbox) (1.4.1)\n",
            "Requirement already satisfied: pandas in /usr/local/lib/python3.7/dist-packages (from pdpbox) (1.1.5)\n",
            "Requirement already satisfied: numpy in /usr/local/lib/python3.7/dist-packages (from pdpbox) (1.19.5)\n",
            "Collecting matplotlib==3.1.1\n",
            "  Using cached https://files.pythonhosted.org/packages/19/7a/60bd79c5d79559150f8bba866dd7d434f0a170312e4d15e8aefa5faba294/matplotlib-3.1.1-cp37-cp37m-manylinux1_x86_64.whl\n",
            "Requirement already satisfied: psutil in /usr/local/lib/python3.7/dist-packages (from pdpbox) (5.4.8)\n",
            "Requirement already satisfied: joblib in /usr/local/lib/python3.7/dist-packages (from pdpbox) (1.0.1)\n",
            "Requirement already satisfied: scikit-learn in /usr/local/lib/python3.7/dist-packages (from sklearn->pdpbox) (0.22.2.post1)\n",
            "Requirement already satisfied: python-dateutil>=2.7.3 in /usr/local/lib/python3.7/dist-packages (from pandas->pdpbox) (2.8.1)\n",
            "Requirement already satisfied: pytz>=2017.2 in /usr/local/lib/python3.7/dist-packages (from pandas->pdpbox) (2018.9)\n",
            "Requirement already satisfied: cycler>=0.10 in /usr/local/lib/python3.7/dist-packages (from matplotlib==3.1.1->pdpbox) (0.10.0)\n",
            "Requirement already satisfied: kiwisolver>=1.0.1 in /usr/local/lib/python3.7/dist-packages (from matplotlib==3.1.1->pdpbox) (1.3.1)\n",
            "Requirement already satisfied: pyparsing!=2.0.4,!=2.1.2,!=2.1.6,>=2.0.1 in /usr/local/lib/python3.7/dist-packages (from matplotlib==3.1.1->pdpbox) (2.4.7)\n",
            "Requirement already satisfied: six>=1.5 in /usr/local/lib/python3.7/dist-packages (from python-dateutil>=2.7.3->pandas->pdpbox) (1.15.0)\n",
            "\u001b[31mERROR: phik 0.11.2 has requirement scipy>=1.5.2, but you'll have scipy 1.4.1 which is incompatible.\u001b[0m\n",
            "\u001b[31mERROR: pandas-profiling 2.12.0 has requirement matplotlib>=3.2.0, but you'll have matplotlib 3.1.1 which is incompatible.\u001b[0m\n",
            "\u001b[31mERROR: albumentations 0.1.12 has requirement imgaug<0.2.7,>=0.2.5, but you'll have imgaug 0.2.9 which is incompatible.\u001b[0m\n",
            "Installing collected packages: matplotlib\n",
            "  Found existing installation: matplotlib 3.4.1\n",
            "    Uninstalling matplotlib-3.4.1:\n",
            "      Successfully uninstalled matplotlib-3.4.1\n",
            "Successfully installed matplotlib-3.1.1\n"
          ],
          "name": "stdout"
        },
        {
          "output_type": "display_data",
          "data": {
            "application/vnd.colab-display-data+json": {
              "pip_warning": {
                "packages": [
                  "matplotlib",
                  "mpl_toolkits"
                ]
              }
            }
          },
          "metadata": {
            "tags": []
          }
        },
        {
          "output_type": "stream",
          "text": [
            "Requirement already satisfied: shap in /usr/local/lib/python3.7/dist-packages (0.39.0)\n",
            "Requirement already satisfied: scikit-learn in /usr/local/lib/python3.7/dist-packages (from shap) (0.22.2.post1)\n",
            "Requirement already satisfied: tqdm>4.25.0 in /usr/local/lib/python3.7/dist-packages (from shap) (4.60.0)\n",
            "Requirement already satisfied: slicer==0.0.7 in /usr/local/lib/python3.7/dist-packages (from shap) (0.0.7)\n",
            "Requirement already satisfied: numpy in /usr/local/lib/python3.7/dist-packages (from shap) (1.19.5)\n",
            "Requirement already satisfied: pandas in /usr/local/lib/python3.7/dist-packages (from shap) (1.1.5)\n",
            "Requirement already satisfied: cloudpickle in /usr/local/lib/python3.7/dist-packages (from shap) (1.3.0)\n",
            "Requirement already satisfied: scipy in /usr/local/lib/python3.7/dist-packages (from shap) (1.4.1)\n",
            "Requirement already satisfied: numba in /usr/local/lib/python3.7/dist-packages (from shap) (0.51.2)\n",
            "Requirement already satisfied: joblib>=0.11 in /usr/local/lib/python3.7/dist-packages (from scikit-learn->shap) (1.0.1)\n",
            "Requirement already satisfied: python-dateutil>=2.7.3 in /usr/local/lib/python3.7/dist-packages (from pandas->shap) (2.8.1)\n",
            "Requirement already satisfied: pytz>=2017.2 in /usr/local/lib/python3.7/dist-packages (from pandas->shap) (2018.9)\n",
            "Requirement already satisfied: llvmlite<0.35,>=0.34.0.dev0 in /usr/local/lib/python3.7/dist-packages (from numba->shap) (0.34.0)\n",
            "Requirement already satisfied: setuptools in /usr/local/lib/python3.7/dist-packages (from numba->shap) (56.0.0)\n",
            "Requirement already satisfied: six>=1.5 in /usr/local/lib/python3.7/dist-packages (from python-dateutil>=2.7.3->pandas->shap) (1.15.0)\n",
            "Requirement already satisfied: eli5 in /usr/local/lib/python3.7/dist-packages (0.11.0)\n",
            "Requirement already satisfied: scikit-learn>=0.20 in /usr/local/lib/python3.7/dist-packages (from eli5) (0.22.2.post1)\n",
            "Requirement already satisfied: numpy>=1.9.0 in /usr/local/lib/python3.7/dist-packages (from eli5) (1.19.5)\n",
            "Requirement already satisfied: six in /usr/local/lib/python3.7/dist-packages (from eli5) (1.15.0)\n",
            "Requirement already satisfied: tabulate>=0.7.7 in /usr/local/lib/python3.7/dist-packages (from eli5) (0.8.9)\n",
            "Requirement already satisfied: scipy in /usr/local/lib/python3.7/dist-packages (from eli5) (1.4.1)\n",
            "Requirement already satisfied: attrs>16.0.0 in /usr/local/lib/python3.7/dist-packages (from eli5) (20.3.0)\n",
            "Requirement already satisfied: graphviz in /usr/local/lib/python3.7/dist-packages (from eli5) (0.10.1)\n",
            "Requirement already satisfied: jinja2 in /usr/local/lib/python3.7/dist-packages (from eli5) (2.11.3)\n",
            "Requirement already satisfied: joblib>=0.11 in /usr/local/lib/python3.7/dist-packages (from scikit-learn>=0.20->eli5) (1.0.1)\n",
            "Requirement already satisfied: MarkupSafe>=0.23 in /usr/local/lib/python3.7/dist-packages (from jinja2->eli5) (1.1.1)\n"
          ],
          "name": "stdout"
        }
      ]
    },
    {
      "cell_type": "markdown",
      "metadata": {
        "id": "NBpenkJjBA1t"
      },
      "source": [
        "Importing and exploring the data set"
      ]
    },
    {
      "cell_type": "code",
      "metadata": {
        "id": "SPvy727MAVV9"
      },
      "source": [
        "diabates = pd.read_csv(\"diabetes_data_upload.csv\")"
      ],
      "execution_count": null,
      "outputs": []
    },
    {
      "cell_type": "code",
      "metadata": {
        "colab": {
          "base_uri": "https://localhost:8080/"
        },
        "id": "7BrZBHp1A7Jc",
        "outputId": "7b9f8190-dc75-4154-e52e-e017822fbace"
      },
      "source": [
        "diabates.shape"
      ],
      "execution_count": null,
      "outputs": [
        {
          "output_type": "execute_result",
          "data": {
            "text/plain": [
              "(520, 17)"
            ]
          },
          "metadata": {
            "tags": []
          },
          "execution_count": 3
        }
      ]
    },
    {
      "cell_type": "code",
      "metadata": {
        "id": "j7rWc08O8uFI"
      },
      "source": [
        "# change column names by replacing spaces with underscores\n",
        "diabates.rename(columns={'sudden weight loss':'sudden_weight_loss', 'Genital thrush': 'Gentital_thrush',\n",
        "                        'visual blurring': 'visual_blurring', 'delayed healing':'delayed_healing',\n",
        "                         'partial paresis': 'partial_paresis', 'muscle stiffness':'muscle_stiffness' }, inplace=True)"
      ],
      "execution_count": null,
      "outputs": []
    },
    {
      "cell_type": "code",
      "metadata": {
        "id": "uG-NQ5eS-SW1"
      },
      "source": [
        "# capitalizing the first letter of each head column\n",
        "diabates.columns=map(lambda x: str(x).capitalize(), diabates.columns)"
      ],
      "execution_count": null,
      "outputs": []
    },
    {
      "cell_type": "code",
      "metadata": {
        "colab": {
          "base_uri": "https://localhost:8080/",
          "height": 215
        },
        "id": "U1fBiOGQBcYp",
        "outputId": "1151dcb6-9ddc-4dee-f83c-7dfce620545e"
      },
      "source": [
        "diabates.head(5)"
      ],
      "execution_count": null,
      "outputs": [
        {
          "output_type": "execute_result",
          "data": {
            "text/html": [
              "<div>\n",
              "<style scoped>\n",
              "    .dataframe tbody tr th:only-of-type {\n",
              "        vertical-align: middle;\n",
              "    }\n",
              "\n",
              "    .dataframe tbody tr th {\n",
              "        vertical-align: top;\n",
              "    }\n",
              "\n",
              "    .dataframe thead th {\n",
              "        text-align: right;\n",
              "    }\n",
              "</style>\n",
              "<table border=\"1\" class=\"dataframe\">\n",
              "  <thead>\n",
              "    <tr style=\"text-align: right;\">\n",
              "      <th></th>\n",
              "      <th>Age</th>\n",
              "      <th>Gender</th>\n",
              "      <th>Polyuria</th>\n",
              "      <th>Polydipsia</th>\n",
              "      <th>Sudden_weight_loss</th>\n",
              "      <th>Weakness</th>\n",
              "      <th>Polyphagia</th>\n",
              "      <th>Gentital_thrush</th>\n",
              "      <th>Visual_blurring</th>\n",
              "      <th>Itching</th>\n",
              "      <th>Irritability</th>\n",
              "      <th>Delayed_healing</th>\n",
              "      <th>Partial_paresis</th>\n",
              "      <th>Muscle_stiffness</th>\n",
              "      <th>Alopecia</th>\n",
              "      <th>Obesity</th>\n",
              "      <th>Class</th>\n",
              "    </tr>\n",
              "  </thead>\n",
              "  <tbody>\n",
              "    <tr>\n",
              "      <th>0</th>\n",
              "      <td>40</td>\n",
              "      <td>Male</td>\n",
              "      <td>No</td>\n",
              "      <td>Yes</td>\n",
              "      <td>No</td>\n",
              "      <td>Yes</td>\n",
              "      <td>No</td>\n",
              "      <td>No</td>\n",
              "      <td>No</td>\n",
              "      <td>Yes</td>\n",
              "      <td>No</td>\n",
              "      <td>Yes</td>\n",
              "      <td>No</td>\n",
              "      <td>Yes</td>\n",
              "      <td>Yes</td>\n",
              "      <td>Yes</td>\n",
              "      <td>Positive</td>\n",
              "    </tr>\n",
              "    <tr>\n",
              "      <th>1</th>\n",
              "      <td>58</td>\n",
              "      <td>Male</td>\n",
              "      <td>No</td>\n",
              "      <td>No</td>\n",
              "      <td>No</td>\n",
              "      <td>Yes</td>\n",
              "      <td>No</td>\n",
              "      <td>No</td>\n",
              "      <td>Yes</td>\n",
              "      <td>No</td>\n",
              "      <td>No</td>\n",
              "      <td>No</td>\n",
              "      <td>Yes</td>\n",
              "      <td>No</td>\n",
              "      <td>Yes</td>\n",
              "      <td>No</td>\n",
              "      <td>Positive</td>\n",
              "    </tr>\n",
              "    <tr>\n",
              "      <th>2</th>\n",
              "      <td>41</td>\n",
              "      <td>Male</td>\n",
              "      <td>Yes</td>\n",
              "      <td>No</td>\n",
              "      <td>No</td>\n",
              "      <td>Yes</td>\n",
              "      <td>Yes</td>\n",
              "      <td>No</td>\n",
              "      <td>No</td>\n",
              "      <td>Yes</td>\n",
              "      <td>No</td>\n",
              "      <td>Yes</td>\n",
              "      <td>No</td>\n",
              "      <td>Yes</td>\n",
              "      <td>Yes</td>\n",
              "      <td>No</td>\n",
              "      <td>Positive</td>\n",
              "    </tr>\n",
              "    <tr>\n",
              "      <th>3</th>\n",
              "      <td>45</td>\n",
              "      <td>Male</td>\n",
              "      <td>No</td>\n",
              "      <td>No</td>\n",
              "      <td>Yes</td>\n",
              "      <td>Yes</td>\n",
              "      <td>Yes</td>\n",
              "      <td>Yes</td>\n",
              "      <td>No</td>\n",
              "      <td>Yes</td>\n",
              "      <td>No</td>\n",
              "      <td>Yes</td>\n",
              "      <td>No</td>\n",
              "      <td>No</td>\n",
              "      <td>No</td>\n",
              "      <td>No</td>\n",
              "      <td>Positive</td>\n",
              "    </tr>\n",
              "    <tr>\n",
              "      <th>4</th>\n",
              "      <td>60</td>\n",
              "      <td>Male</td>\n",
              "      <td>Yes</td>\n",
              "      <td>Yes</td>\n",
              "      <td>Yes</td>\n",
              "      <td>Yes</td>\n",
              "      <td>Yes</td>\n",
              "      <td>No</td>\n",
              "      <td>Yes</td>\n",
              "      <td>Yes</td>\n",
              "      <td>Yes</td>\n",
              "      <td>Yes</td>\n",
              "      <td>Yes</td>\n",
              "      <td>Yes</td>\n",
              "      <td>Yes</td>\n",
              "      <td>Yes</td>\n",
              "      <td>Positive</td>\n",
              "    </tr>\n",
              "  </tbody>\n",
              "</table>\n",
              "</div>"
            ],
            "text/plain": [
              "   Age Gender Polyuria Polydipsia  ... Muscle_stiffness Alopecia Obesity     Class\n",
              "0   40   Male       No        Yes  ...              Yes      Yes     Yes  Positive\n",
              "1   58   Male       No         No  ...               No      Yes      No  Positive\n",
              "2   41   Male      Yes         No  ...              Yes      Yes      No  Positive\n",
              "3   45   Male       No         No  ...               No       No      No  Positive\n",
              "4   60   Male      Yes        Yes  ...              Yes      Yes     Yes  Positive\n",
              "\n",
              "[5 rows x 17 columns]"
            ]
          },
          "metadata": {
            "tags": []
          },
          "execution_count": 6
        }
      ]
    },
    {
      "cell_type": "code",
      "metadata": {
        "colab": {
          "base_uri": "https://localhost:8080/",
          "height": 215
        },
        "id": "-ZmdaBcjBirP",
        "outputId": "42ae6f57-10d2-40f9-e6f5-0e52fec99faa"
      },
      "source": [
        "diabates.sample(5)"
      ],
      "execution_count": null,
      "outputs": [
        {
          "output_type": "execute_result",
          "data": {
            "text/html": [
              "<div>\n",
              "<style scoped>\n",
              "    .dataframe tbody tr th:only-of-type {\n",
              "        vertical-align: middle;\n",
              "    }\n",
              "\n",
              "    .dataframe tbody tr th {\n",
              "        vertical-align: top;\n",
              "    }\n",
              "\n",
              "    .dataframe thead th {\n",
              "        text-align: right;\n",
              "    }\n",
              "</style>\n",
              "<table border=\"1\" class=\"dataframe\">\n",
              "  <thead>\n",
              "    <tr style=\"text-align: right;\">\n",
              "      <th></th>\n",
              "      <th>Age</th>\n",
              "      <th>Gender</th>\n",
              "      <th>Polyuria</th>\n",
              "      <th>Polydipsia</th>\n",
              "      <th>Sudden_weight_loss</th>\n",
              "      <th>Weakness</th>\n",
              "      <th>Polyphagia</th>\n",
              "      <th>Gentital_thrush</th>\n",
              "      <th>Visual_blurring</th>\n",
              "      <th>Itching</th>\n",
              "      <th>Irritability</th>\n",
              "      <th>Delayed_healing</th>\n",
              "      <th>Partial_paresis</th>\n",
              "      <th>Muscle_stiffness</th>\n",
              "      <th>Alopecia</th>\n",
              "      <th>Obesity</th>\n",
              "      <th>Class</th>\n",
              "    </tr>\n",
              "  </thead>\n",
              "  <tbody>\n",
              "    <tr>\n",
              "      <th>170</th>\n",
              "      <td>49</td>\n",
              "      <td>Male</td>\n",
              "      <td>Yes</td>\n",
              "      <td>Yes</td>\n",
              "      <td>No</td>\n",
              "      <td>Yes</td>\n",
              "      <td>No</td>\n",
              "      <td>No</td>\n",
              "      <td>Yes</td>\n",
              "      <td>Yes</td>\n",
              "      <td>No</td>\n",
              "      <td>No</td>\n",
              "      <td>No</td>\n",
              "      <td>No</td>\n",
              "      <td>No</td>\n",
              "      <td>No</td>\n",
              "      <td>Positive</td>\n",
              "    </tr>\n",
              "    <tr>\n",
              "      <th>162</th>\n",
              "      <td>35</td>\n",
              "      <td>Female</td>\n",
              "      <td>No</td>\n",
              "      <td>No</td>\n",
              "      <td>No</td>\n",
              "      <td>No</td>\n",
              "      <td>No</td>\n",
              "      <td>No</td>\n",
              "      <td>No</td>\n",
              "      <td>No</td>\n",
              "      <td>No</td>\n",
              "      <td>No</td>\n",
              "      <td>No</td>\n",
              "      <td>No</td>\n",
              "      <td>No</td>\n",
              "      <td>No</td>\n",
              "      <td>Positive</td>\n",
              "    </tr>\n",
              "    <tr>\n",
              "      <th>134</th>\n",
              "      <td>35</td>\n",
              "      <td>Male</td>\n",
              "      <td>Yes</td>\n",
              "      <td>Yes</td>\n",
              "      <td>Yes</td>\n",
              "      <td>Yes</td>\n",
              "      <td>No</td>\n",
              "      <td>No</td>\n",
              "      <td>No</td>\n",
              "      <td>No</td>\n",
              "      <td>No</td>\n",
              "      <td>No</td>\n",
              "      <td>No</td>\n",
              "      <td>No</td>\n",
              "      <td>No</td>\n",
              "      <td>No</td>\n",
              "      <td>Positive</td>\n",
              "    </tr>\n",
              "    <tr>\n",
              "      <th>512</th>\n",
              "      <td>43</td>\n",
              "      <td>Male</td>\n",
              "      <td>No</td>\n",
              "      <td>No</td>\n",
              "      <td>No</td>\n",
              "      <td>No</td>\n",
              "      <td>No</td>\n",
              "      <td>No</td>\n",
              "      <td>No</td>\n",
              "      <td>No</td>\n",
              "      <td>No</td>\n",
              "      <td>No</td>\n",
              "      <td>No</td>\n",
              "      <td>No</td>\n",
              "      <td>Yes</td>\n",
              "      <td>No</td>\n",
              "      <td>Negative</td>\n",
              "    </tr>\n",
              "    <tr>\n",
              "      <th>227</th>\n",
              "      <td>30</td>\n",
              "      <td>Male</td>\n",
              "      <td>No</td>\n",
              "      <td>No</td>\n",
              "      <td>Yes</td>\n",
              "      <td>Yes</td>\n",
              "      <td>No</td>\n",
              "      <td>No</td>\n",
              "      <td>No</td>\n",
              "      <td>No</td>\n",
              "      <td>No</td>\n",
              "      <td>No</td>\n",
              "      <td>No</td>\n",
              "      <td>No</td>\n",
              "      <td>No</td>\n",
              "      <td>No</td>\n",
              "      <td>Negative</td>\n",
              "    </tr>\n",
              "  </tbody>\n",
              "</table>\n",
              "</div>"
            ],
            "text/plain": [
              "     Age  Gender Polyuria  ... Alopecia Obesity     Class\n",
              "170   49    Male      Yes  ...       No      No  Positive\n",
              "162   35  Female       No  ...       No      No  Positive\n",
              "134   35    Male      Yes  ...       No      No  Positive\n",
              "512   43    Male       No  ...      Yes      No  Negative\n",
              "227   30    Male       No  ...       No      No  Negative\n",
              "\n",
              "[5 rows x 17 columns]"
            ]
          },
          "metadata": {
            "tags": []
          },
          "execution_count": 7
        }
      ]
    },
    {
      "cell_type": "code",
      "metadata": {
        "colab": {
          "base_uri": "https://localhost:8080/",
          "height": 284
        },
        "id": "6TWvMK5RBn3G",
        "outputId": "8c09a437-bc22-418f-ca7e-83ff59d6f154"
      },
      "source": [
        "diabates.describe()"
      ],
      "execution_count": null,
      "outputs": [
        {
          "output_type": "execute_result",
          "data": {
            "text/html": [
              "<div>\n",
              "<style scoped>\n",
              "    .dataframe tbody tr th:only-of-type {\n",
              "        vertical-align: middle;\n",
              "    }\n",
              "\n",
              "    .dataframe tbody tr th {\n",
              "        vertical-align: top;\n",
              "    }\n",
              "\n",
              "    .dataframe thead th {\n",
              "        text-align: right;\n",
              "    }\n",
              "</style>\n",
              "<table border=\"1\" class=\"dataframe\">\n",
              "  <thead>\n",
              "    <tr style=\"text-align: right;\">\n",
              "      <th></th>\n",
              "      <th>Age</th>\n",
              "    </tr>\n",
              "  </thead>\n",
              "  <tbody>\n",
              "    <tr>\n",
              "      <th>count</th>\n",
              "      <td>520.000000</td>\n",
              "    </tr>\n",
              "    <tr>\n",
              "      <th>mean</th>\n",
              "      <td>48.028846</td>\n",
              "    </tr>\n",
              "    <tr>\n",
              "      <th>std</th>\n",
              "      <td>12.151466</td>\n",
              "    </tr>\n",
              "    <tr>\n",
              "      <th>min</th>\n",
              "      <td>16.000000</td>\n",
              "    </tr>\n",
              "    <tr>\n",
              "      <th>25%</th>\n",
              "      <td>39.000000</td>\n",
              "    </tr>\n",
              "    <tr>\n",
              "      <th>50%</th>\n",
              "      <td>47.500000</td>\n",
              "    </tr>\n",
              "    <tr>\n",
              "      <th>75%</th>\n",
              "      <td>57.000000</td>\n",
              "    </tr>\n",
              "    <tr>\n",
              "      <th>max</th>\n",
              "      <td>90.000000</td>\n",
              "    </tr>\n",
              "  </tbody>\n",
              "</table>\n",
              "</div>"
            ],
            "text/plain": [
              "              Age\n",
              "count  520.000000\n",
              "mean    48.028846\n",
              "std     12.151466\n",
              "min     16.000000\n",
              "25%     39.000000\n",
              "50%     47.500000\n",
              "75%     57.000000\n",
              "max     90.000000"
            ]
          },
          "metadata": {
            "tags": []
          },
          "execution_count": 8
        }
      ]
    },
    {
      "cell_type": "code",
      "metadata": {
        "colab": {
          "base_uri": "https://localhost:8080/"
        },
        "id": "vnq2NBSKB4gB",
        "outputId": "a12341b9-0dd2-4733-a9fa-47fc0c300e86"
      },
      "source": [
        "diabates.info()"
      ],
      "execution_count": null,
      "outputs": [
        {
          "output_type": "stream",
          "text": [
            "<class 'pandas.core.frame.DataFrame'>\n",
            "RangeIndex: 520 entries, 0 to 519\n",
            "Data columns (total 17 columns):\n",
            " #   Column              Non-Null Count  Dtype \n",
            "---  ------              --------------  ----- \n",
            " 0   Age                 520 non-null    int64 \n",
            " 1   Gender              520 non-null    object\n",
            " 2   Polyuria            520 non-null    object\n",
            " 3   Polydipsia          520 non-null    object\n",
            " 4   Sudden_weight_loss  520 non-null    object\n",
            " 5   Weakness            520 non-null    object\n",
            " 6   Polyphagia          520 non-null    object\n",
            " 7   Gentital_thrush     520 non-null    object\n",
            " 8   Visual_blurring     520 non-null    object\n",
            " 9   Itching             520 non-null    object\n",
            " 10  Irritability        520 non-null    object\n",
            " 11  Delayed_healing     520 non-null    object\n",
            " 12  Partial_paresis     520 non-null    object\n",
            " 13  Muscle_stiffness    520 non-null    object\n",
            " 14  Alopecia            520 non-null    object\n",
            " 15  Obesity             520 non-null    object\n",
            " 16  Class               520 non-null    object\n",
            "dtypes: int64(1), object(16)\n",
            "memory usage: 69.2+ KB\n"
          ],
          "name": "stdout"
        }
      ]
    },
    {
      "cell_type": "markdown",
      "metadata": {
        "id": "eMBSWfCx_MVk"
      },
      "source": [
        "Train test data split twice"
      ]
    },
    {
      "cell_type": "code",
      "metadata": {
        "colab": {
          "base_uri": "https://localhost:8080/"
        },
        "id": "Sh3pkD5z_yzl",
        "outputId": "01bd8451-cb3d-40a8-c61f-ed4ac1fd8775"
      },
      "source": [
        "# first split\n",
        "from sklearn.model_selection import train_test_split\n",
        "train_validate, test=train_test_split(diabates, train_size=0.80, test_size=0.20,\n",
        "                                      stratify=diabates['Class'], random_state=42)\n",
        "train_validate.shape, test.shape"
      ],
      "execution_count": null,
      "outputs": [
        {
          "output_type": "execute_result",
          "data": {
            "text/plain": [
              "((416, 17), (104, 17))"
            ]
          },
          "metadata": {
            "tags": []
          },
          "execution_count": 10
        }
      ]
    },
    {
      "cell_type": "code",
      "metadata": {
        "colab": {
          "base_uri": "https://localhost:8080/"
        },
        "id": "y596z8ZSA0Yf",
        "outputId": "328add93-6a18-45bc-e514-d0dd1dd8dfc9"
      },
      "source": [
        "# second split\n",
        "train, validate=train_test_split(train_validate, train_size=0.80,\n",
        "                                 test_size=0.20,\n",
        "                                 stratify=train_validate['Class'], random_state=42)\n",
        "train.shape, validate.shape"
      ],
      "execution_count": null,
      "outputs": [
        {
          "output_type": "execute_result",
          "data": {
            "text/plain": [
              "((332, 17), (84, 17))"
            ]
          },
          "metadata": {
            "tags": []
          },
          "execution_count": 11
        }
      ]
    },
    {
      "cell_type": "code",
      "metadata": {
        "colab": {
          "base_uri": "https://localhost:8080/"
        },
        "id": "lKi_dM82ClUN",
        "outputId": "5ffb5759-2d4a-4f1d-fba8-2fcd40ed0cf5"
      },
      "source": [
        "#begin with baselines for classification\n",
        "target='Class'\n",
        "y_train=train[target]\n",
        "y_train.value_counts(normalize=True)"
      ],
      "execution_count": null,
      "outputs": [
        {
          "output_type": "execute_result",
          "data": {
            "text/plain": [
              "Positive    0.614458\n",
              "Negative    0.385542\n",
              "Name: Class, dtype: float64"
            ]
          },
          "metadata": {
            "tags": []
          },
          "execution_count": 12
        }
      ]
    },
    {
      "cell_type": "code",
      "metadata": {
        "colab": {
          "base_uri": "https://localhost:8080/",
          "height": 279
        },
        "id": "oyI_Xoq7lqVs",
        "outputId": "ee3a8e34-a45e-454d-94d8-e845b7c7c334"
      },
      "source": [
        "#visualizing the target\n",
        "%matplotlib inline\n",
        "sns.countplot(y_train);"
      ],
      "execution_count": null,
      "outputs": [
        {
          "output_type": "display_data",
          "data": {
            "image/png": "[encoded data removed]",
            "text/plain": [
              "<Figure size 432x288 with 1 Axes>"
            ]
          },
          "metadata": {
            "tags": [],
            "needs_background": "light"
          }
        }
      ]
    },
    {
      "cell_type": "code",
      "metadata": {
        "colab": {
          "base_uri": "https://localhost:8080/"
        },
        "id": "69eBUDg7mDaI",
        "outputId": "d05bf277-e3ee-4c5b-b9b2-81a5cb4eebea"
      },
      "source": [
        "#checking the majority\n",
        "majority_class=y_train.mode()[0]\n",
        "y_pred=[majority_class]*len(y_train)\n",
        "y_pred"
      ],
      "execution_count": null,
      "outputs": [
        {
          "output_type": "execute_result",
          "data": {
            "text/plain": [
              "['Positive',\n",
              " 'Positive',\n",
              " 'Positive',\n",
              " 'Positive',\n",
              " 'Positive',\n",
              " 'Positive',\n",
              " 'Positive',\n",
              " 'Positive',\n",
              " 'Positive',\n",
              " 'Positive',\n",
              " 'Positive',\n",
              " 'Positive',\n",
              " 'Positive',\n",
              " 'Positive',\n",
              " 'Positive',\n",
              " 'Positive',\n",
              " 'Positive',\n",
              " 'Positive',\n",
              " 'Positive',\n",
              " 'Positive',\n",
              " 'Positive',\n",
              " 'Positive',\n",
              " 'Positive',\n",
              " 'Positive',\n",
              " 'Positive',\n",
              " 'Positive',\n",
              " 'Positive',\n",
              " 'Positive',\n",
              " 'Positive',\n",
              " 'Positive',\n",
              " 'Positive',\n",
              " 'Positive',\n",
              " 'Positive',\n",
              " 'Positive',\n",
              " 'Positive',\n",
              " 'Positive',\n",
              " 'Positive',\n",
              " 'Positive',\n",
              " 'Positive',\n",
              " 'Positive',\n",
              " 'Positive',\n",
              " 'Positive',\n",
              " 'Positive',\n",
              " 'Positive',\n",
              " 'Positive',\n",
              " 'Positive',\n",
              " 'Positive',\n",
              " 'Positive',\n",
              " 'Positive',\n",
              " 'Positive',\n",
              " 'Positive',\n",
              " 'Positive',\n",
              " 'Positive',\n",
              " 'Positive',\n",
              " 'Positive',\n",
              " 'Positive',\n",
              " 'Positive',\n",
              " 'Positive',\n",
              " 'Positive',\n",
              " 'Positive',\n",
              " 'Positive',\n",
              " 'Positive',\n",
              " 'Positive',\n",
              " 'Positive',\n",
              " 'Positive',\n",
              " 'Positive',\n",
              " 'Positive',\n",
              " 'Positive',\n",
              " 'Positive',\n",
              " 'Positive',\n",
              " 'Positive',\n",
              " 'Positive',\n",
              " 'Positive',\n",
              " 'Positive',\n",
              " 'Positive',\n",
              " 'Positive',\n",
              " 'Positive',\n",
              " 'Positive',\n",
              " 'Positive',\n",
              " 'Positive',\n",
              " 'Positive',\n",
              " 'Positive',\n",
              " 'Positive',\n",
              " 'Positive',\n",
              " 'Positive',\n",
              " 'Positive',\n",
              " 'Positive',\n",
              " 'Positive',\n",
              " 'Positive',\n",
              " 'Positive',\n",
              " 'Positive',\n",
              " 'Positive',\n",
              " 'Positive',\n",
              " 'Positive',\n",
              " 'Positive',\n",
              " 'Positive',\n",
              " 'Positive',\n",
              " 'Positive',\n",
              " 'Positive',\n",
              " 'Positive',\n",
              " 'Positive',\n",
              " 'Positive',\n",
              " 'Positive',\n",
              " 'Positive',\n",
              " 'Positive',\n",
              " 'Positive',\n",
              " 'Positive',\n",
              " 'Positive',\n",
              " 'Positive',\n",
              " 'Positive',\n",
              " 'Positive',\n",
              " 'Positive',\n",
              " 'Positive',\n",
              " 'Positive',\n",
              " 'Positive',\n",
              " 'Positive',\n",
              " 'Positive',\n",
              " 'Positive',\n",
              " 'Positive',\n",
              " 'Positive',\n",
              " 'Positive',\n",
              " 'Positive',\n",
              " 'Positive',\n",
              " 'Positive',\n",
              " 'Positive',\n",
              " 'Positive',\n",
              " 'Positive',\n",
              " 'Positive',\n",
              " 'Positive',\n",
              " 'Positive',\n",
              " 'Positive',\n",
              " 'Positive',\n",
              " 'Positive',\n",
              " 'Positive',\n",
              " 'Positive',\n",
              " 'Positive',\n",
              " 'Positive',\n",
              " 'Positive',\n",
              " 'Positive',\n",
              " 'Positive',\n",
              " 'Positive',\n",
              " 'Positive',\n",
              " 'Positive',\n",
              " 'Positive',\n",
              " 'Positive',\n",
              " 'Positive',\n",
              " 'Positive',\n",
              " 'Positive',\n",
              " 'Positive',\n",
              " 'Positive',\n",
              " 'Positive',\n",
              " 'Positive',\n",
              " 'Positive',\n",
              " 'Positive',\n",
              " 'Positive',\n",
              " 'Positive',\n",
              " 'Positive',\n",
              " 'Positive',\n",
              " 'Positive',\n",
              " 'Positive',\n",
              " 'Positive',\n",
              " 'Positive',\n",
              " 'Positive',\n",
              " 'Positive',\n",
              " 'Positive',\n",
              " 'Positive',\n",
              " 'Positive',\n",
              " 'Positive',\n",
              " 'Positive',\n",
              " 'Positive',\n",
              " 'Positive',\n",
              " 'Positive',\n",
              " 'Positive',\n",
              " 'Positive',\n",
              " 'Positive',\n",
              " 'Positive',\n",
              " 'Positive',\n",
              " 'Positive',\n",
              " 'Positive',\n",
              " 'Positive',\n",
              " 'Positive',\n",
              " 'Positive',\n",
              " 'Positive',\n",
              " 'Positive',\n",
              " 'Positive',\n",
              " 'Positive',\n",
              " 'Positive',\n",
              " 'Positive',\n",
              " 'Positive',\n",
              " 'Positive',\n",
              " 'Positive',\n",
              " 'Positive',\n",
              " 'Positive',\n",
              " 'Positive',\n",
              " 'Positive',\n",
              " 'Positive',\n",
              " 'Positive',\n",
              " 'Positive',\n",
              " 'Positive',\n",
              " 'Positive',\n",
              " 'Positive',\n",
              " 'Positive',\n",
              " 'Positive',\n",
              " 'Positive',\n",
              " 'Positive',\n",
              " 'Positive',\n",
              " 'Positive',\n",
              " 'Positive',\n",
              " 'Positive',\n",
              " 'Positive',\n",
              " 'Positive',\n",
              " 'Positive',\n",
              " 'Positive',\n",
              " 'Positive',\n",
              " 'Positive',\n",
              " 'Positive',\n",
              " 'Positive',\n",
              " 'Positive',\n",
              " 'Positive',\n",
              " 'Positive',\n",
              " 'Positive',\n",
              " 'Positive',\n",
              " 'Positive',\n",
              " 'Positive',\n",
              " 'Positive',\n",
              " 'Positive',\n",
              " 'Positive',\n",
              " 'Positive',\n",
              " 'Positive',\n",
              " 'Positive',\n",
              " 'Positive',\n",
              " 'Positive',\n",
              " 'Positive',\n",
              " 'Positive',\n",
              " 'Positive',\n",
              " 'Positive',\n",
              " 'Positive',\n",
              " 'Positive',\n",
              " 'Positive',\n",
              " 'Positive',\n",
              " 'Positive',\n",
              " 'Positive',\n",
              " 'Positive',\n",
              " 'Positive',\n",
              " 'Positive',\n",
              " 'Positive',\n",
              " 'Positive',\n",
              " 'Positive',\n",
              " 'Positive',\n",
              " 'Positive',\n",
              " 'Positive',\n",
              " 'Positive',\n",
              " 'Positive',\n",
              " 'Positive',\n",
              " 'Positive',\n",
              " 'Positive',\n",
              " 'Positive',\n",
              " 'Positive',\n",
              " 'Positive',\n",
              " 'Positive',\n",
              " 'Positive',\n",
              " 'Positive',\n",
              " 'Positive',\n",
              " 'Positive',\n",
              " 'Positive',\n",
              " 'Positive',\n",
              " 'Positive',\n",
              " 'Positive',\n",
              " 'Positive',\n",
              " 'Positive',\n",
              " 'Positive',\n",
              " 'Positive',\n",
              " 'Positive',\n",
              " 'Positive',\n",
              " 'Positive',\n",
              " 'Positive',\n",
              " 'Positive',\n",
              " 'Positive',\n",
              " 'Positive',\n",
              " 'Positive',\n",
              " 'Positive',\n",
              " 'Positive',\n",
              " 'Positive',\n",
              " 'Positive',\n",
              " 'Positive',\n",
              " 'Positive',\n",
              " 'Positive',\n",
              " 'Positive',\n",
              " 'Positive',\n",
              " 'Positive',\n",
              " 'Positive',\n",
              " 'Positive',\n",
              " 'Positive',\n",
              " 'Positive',\n",
              " 'Positive',\n",
              " 'Positive',\n",
              " 'Positive',\n",
              " 'Positive',\n",
              " 'Positive',\n",
              " 'Positive',\n",
              " 'Positive',\n",
              " 'Positive',\n",
              " 'Positive',\n",
              " 'Positive',\n",
              " 'Positive',\n",
              " 'Positive',\n",
              " 'Positive',\n",
              " 'Positive',\n",
              " 'Positive',\n",
              " 'Positive',\n",
              " 'Positive',\n",
              " 'Positive',\n",
              " 'Positive',\n",
              " 'Positive',\n",
              " 'Positive',\n",
              " 'Positive',\n",
              " 'Positive',\n",
              " 'Positive',\n",
              " 'Positive',\n",
              " 'Positive',\n",
              " 'Positive',\n",
              " 'Positive',\n",
              " 'Positive',\n",
              " 'Positive',\n",
              " 'Positive',\n",
              " 'Positive',\n",
              " 'Positive',\n",
              " 'Positive',\n",
              " 'Positive',\n",
              " 'Positive',\n",
              " 'Positive',\n",
              " 'Positive']"
            ]
          },
          "metadata": {
            "tags": []
          },
          "execution_count": 14
        }
      ]
    },
    {
      "cell_type": "code",
      "metadata": {
        "colab": {
          "base_uri": "https://localhost:8080/"
        },
        "id": "bF56aRHkmdHm",
        "outputId": "495519e3-fd51-49bd-9139-05c79a01ac77"
      },
      "source": [
        "from sklearn.metrics import accuracy_score\n",
        "y_validate=validate[target]\n",
        "y_pred=[majority_class]*len(y_validate)\n",
        "accuracy_score(y_validate, y_pred)"
      ],
      "execution_count": null,
      "outputs": [
        {
          "output_type": "execute_result",
          "data": {
            "text/plain": [
              "0.6190476190476191"
            ]
          },
          "metadata": {
            "tags": []
          },
          "execution_count": 15
        }
      ]
    },
    {
      "cell_type": "markdown",
      "metadata": {
        "id": "nvju1yPWxr5I"
      },
      "source": [
        "Logestic Regression"
      ]
    },
    {
      "cell_type": "code",
      "metadata": {
        "id": "uRjS4R5_9bRq"
      },
      "source": [
        "\n",
        "# Using the target i choosed\n",
        "target = 'Class'\n",
        "\n",
        "# Get a dataframe with all train columns except the target\n",
        "features = train.columns.drop([target])\n",
        "\n",
        "\n",
        "# vectors and matrices\n",
        "X_train = train[features]\n",
        "y_train = train[target]\n",
        "X_validate = validate[features]\n",
        "y_validate = validate[target]\n",
        "X_test = test[features]\n",
        "y_test = test[target]"
      ],
      "execution_count": null,
      "outputs": []
    },
    {
      "cell_type": "code",
      "metadata": {
        "id": "DAlBzyysnGmS",
        "colab": {
          "base_uri": "https://localhost:8080/"
        },
        "outputId": "9d35b994-bfbc-4137-9330-f680008abc17"
      },
      "source": [
        "#making pipeline and fitting the data\n",
        "import category_encoders as ce\n",
        "from sklearn.pipeline import make_pipeline\n",
        "from sklearn.impute import SimpleImputer\n",
        "from sklearn.linear_model import LogisticRegression\n",
        "from sklearn.metrics import roc_auc_score\n",
        "\n",
        "pipeline=make_pipeline(\n",
        "     ce.OrdinalEncoder(),\n",
        "    SimpleImputer(strategy='median'),\n",
        "    LogisticRegression(random_state=100, max_iter=50) # more iterations higher accuracy\n",
        "  )\n",
        "\n",
        "# Fitting on train\n",
        "pipeline.fit(X_train, y_train)\n",
        "\n",
        "#prediction on X_test\n",
        "y_pred1 = pipeline.predict(X_test)\n",
        "\n",
        "#predict probabilities for the test set.\n",
        "y_pred_proba1 = pipeline.predict_proba(X_test)[:, -1]\n",
        "\n",
        "# accuracy is kinda the times the guest try\n",
        "#score on validate\n",
        "print('Validation Accuracy', pipeline.score(X_validate, y_validate))\n",
        "print('Test ROC AUC score', roc_auc_score(y_test, y_pred_proba1))\n",
        ""
      ],
      "execution_count": null,
      "outputs": [
        {
          "output_type": "stream",
          "text": [
            "Validation Accuracy 0.9166666666666666\n",
            "Test ROC AUC score 0.9839843749999999\n"
          ],
          "name": "stdout"
        }
      ]
    },
    {
      "cell_type": "markdown",
      "metadata": {
        "id": "7Tcl4HlLv3Tr"
      },
      "source": [
        "Confusion Matrix plot with Logistic Regression"
      ]
    },
    {
      "cell_type": "code",
      "metadata": {
        "colab": {
          "base_uri": "https://localhost:8080/",
          "height": 305
        },
        "id": "2xevBVfFAf7l",
        "outputId": "c16c9b1f-1ed1-4c62-b198-175a863ee1d7"
      },
      "source": [
        "from sklearn.metrics import plot_confusion_matrix\n",
        "\n",
        "Classes = ['passed', 'Failed']\n",
        "plot_confusion_matrix(pipeline, X_validate,\n",
        "                      y_validate, values_format='.0f',\n",
        "                      xticks_rotation='vertical',\n",
        "                      display_labels=Classes);\n"
      ],
      "execution_count": null,
      "outputs": [
        {
          "output_type": "display_data",
          "data": {
            "image/png": "[encoded data removed]",
            "text/plain": [
              "<Figure size 432x288 with 2 Axes>"
            ]
          },
          "metadata": {
            "tags": [],
            "needs_background": "light"
          }
        }
      ]
    },
    {
      "cell_type": "markdown",
      "metadata": {
        "id": "sgPLC3rQwLaM"
      },
      "source": [
        "Classification report with Linear Regression"
      ]
    },
    {
      "cell_type": "code",
      "metadata": {
        "colab": {
          "base_uri": "https://localhost:8080/"
        },
        "id": "zNWwyzvYAg0b",
        "outputId": "c0e33cc5-fb4b-498b-d522-1f58bc90f421"
      },
      "source": [
        "from sklearn.metrics import classification_report\n",
        "print(classification_report(y_test, y_pred1))\n"
      ],
      "execution_count": null,
      "outputs": [
        {
          "output_type": "stream",
          "text": [
            "              precision    recall  f1-score   support\n",
            "\n",
            "    Negative       0.91      0.97      0.94        40\n",
            "    Positive       0.98      0.94      0.96        64\n",
            "\n",
            "    accuracy                           0.95       104\n",
            "   macro avg       0.95      0.96      0.95       104\n",
            "weighted avg       0.95      0.95      0.95       104\n",
            "\n"
          ],
          "name": "stdout"
        }
      ]
    },
    {
      "cell_type": "markdown",
      "metadata": {
        "id": "B20o9a4UAtvZ"
      },
      "source": [
        "Decision Tree Model"
      ]
    },
    {
      "cell_type": "code",
      "metadata": {
        "colab": {
          "base_uri": "https://localhost:8080/"
        },
        "id": "TlitTodSAkLm",
        "outputId": "68fcc3ad-cb60-44cc-a4b1-9a0a6816b2f9"
      },
      "source": [
        "\n",
        "#creating the pipeline with the libraries below\n",
        "import category_encoders as ce\n",
        "from sklearn.impute import SimpleImputer\n",
        "from sklearn.tree import DecisionTreeClassifier\n",
        "from sklearn.pipeline import make_pipeline\n",
        "\n",
        "pipeline1 = make_pipeline(\n",
        "    ce.OneHotEncoder(use_cat_names=True),\n",
        "    SimpleImputer(strategy='mean'),\n",
        "    DecisionTreeClassifier(criterion='gini',\n",
        "                             max_depth = 10,\n",
        "                             max_features = 'auto',\n",
        "                             random_state = 1,\n",
        "                             splitter = 'best'))\n",
        "\n",
        "# Fit on train\n",
        "pipeline1.fit(X_train, y_train)\n",
        "\n",
        "# Predict on test\n",
        "y_pred2 = pipeline1.predict(X_test)\n",
        "\n",
        "#predict probabilities for the test set.\n",
        "y_pred_proba2 = pipeline1.predict_proba(X_test)[:, -1]\n",
        "\n",
        "# accuracy is kinda the times the guest try\n",
        "print('Validation Accuracy', pipeline1.score(X_validate, y_validate))\n",
        "print('Test ROC AUC score', roc_auc_score(y_test, y_pred_proba2))"
      ],
      "execution_count": null,
      "outputs": [
        {
          "output_type": "stream",
          "text": [
            "Validation Accuracy 0.9761904761904762\n",
            "Test ROC AUC score 0.9718749999999999\n"
          ],
          "name": "stdout"
        }
      ]
    },
    {
      "cell_type": "markdown",
      "metadata": {
        "id": "KA20CsaPwWdl"
      },
      "source": [
        "Confusion matrix plot with Decision Tree"
      ]
    },
    {
      "cell_type": "code",
      "metadata": {
        "colab": {
          "base_uri": "https://localhost:8080/",
          "height": 305
        },
        "id": "HGwSXcRLA8VN",
        "outputId": "b8b3c7d5-abd5-4f29-a8b6-90d8b8c3cf0a"
      },
      "source": [
        "from sklearn.metrics import plot_confusion_matrix\n",
        "\n",
        "Classes = ['passed', 'Failed']\n",
        "plot_confusion_matrix(pipeline1, X_validate, y_validate,\n",
        "                      values_format='.0f', xticks_rotation='vertical',\n",
        "                      display_labels=Classes);"
      ],
      "execution_count": null,
      "outputs": [
        {
          "output_type": "display_data",
          "data": {
            "image/png": "[encoded data removed]",
            "text/plain": [
              "<Figure size 432x288 with 2 Axes>"
            ]
          },
          "metadata": {
            "tags": [],
            "needs_background": "light"
          }
        }
      ]
    },
    {
      "cell_type": "markdown",
      "metadata": {
        "id": "f43QoDuEwesk"
      },
      "source": [
        "Classification report with Decision Tree"
      ]
    },
    {
      "cell_type": "code",
      "metadata": {
        "colab": {
          "base_uri": "https://localhost:8080/"
        },
        "id": "INpXeDwaA9_a",
        "outputId": "30273732-4bf5-4fca-8f16-b7523138f794"
      },
      "source": [
        "from sklearn.metrics import classification_report\n",
        "print(classification_report(y_test, y_pred2))"
      ],
      "execution_count": null,
      "outputs": [
        {
          "output_type": "stream",
          "text": [
            "              precision    recall  f1-score   support\n",
            "\n",
            "    Negative       0.95      0.97      0.96        40\n",
            "    Positive       0.98      0.97      0.98        64\n",
            "\n",
            "    accuracy                           0.97       104\n",
            "   macro avg       0.97      0.97      0.97       104\n",
            "weighted avg       0.97      0.97      0.97       104\n",
            "\n"
          ],
          "name": "stdout"
        }
      ]
    },
    {
      "cell_type": "code",
      "metadata": {
        "colab": {
          "base_uri": "https://localhost:8080/",
          "height": 734
        },
        "id": "zfAa5o8QEJVB",
        "outputId": "aa6a97aa-5b4c-44df-8a3c-22bfc73705e4"
      },
      "source": [
        "# visualyzing the desicion trees\n",
        "import graphviz\n",
        "from sklearn.tree import export_graphviz\n",
        "\n",
        "model = pipeline1.named_steps['decisiontreeclassifier']\n",
        "encoder = pipeline1.named_steps['onehotencoder']\n",
        "encoded_columns = encoder.transform(X_validate).columns\n",
        "\n",
        "tree = export_graphviz(model, out_file=None, max_depth=3, feature_names=encoded_columns,\n",
        "                       class_names=model.classes_,  impurity=True, filled=True,\n",
        "                       proportion=True,  rounded=True)\n",
        "\n",
        "display(graphviz.Source(tree))"
      ],
      "execution_count": null,
      "outputs": [
        {
          "output_type": "display_data",
          "data": {
            "text/plain": [
              "<graphviz.files.Source at 0x7f1074092690>"
            ],
            "image/svg+xml": "<?xml version=\"1.0\" encoding=\"UTF-8\" standalone=\"no\"?>\n<!DOCTYPE svg PUBLIC \"-//W3C//DTD SVG 1.1//EN\"\n \"http://www.w3.org/Graphics/SVG/1.1/DTD/svg11.dtd\">\n<!-- Generated by graphviz version 2.40.1 (20161225.0304)\n -->\n<!-- Title: Tree Pages: 1 -->\n<svg width=\"1010pt\" height=\"520pt\"\n viewBox=\"0.00 0.00 1009.50 520.00\" xmlns=\"http://www.w3.org/2000/svg\" xmlns:xlink=\"http://www.w3.org/1999/xlink\">\n<g id=\"graph0\" class=\"graph\" transform=\"scale(1 1) rotate(0) translate(4 516)\">\n<title>Tree</title>\n<polygon fill=\"#ffffff\" stroke=\"transparent\" points=\"-4,4 -4,-516 1005.5,-516 1005.5,4 -4,4\"/>\n<!-- 0 -->\n<g id=\"node1\" class=\"node\">\n<title>0</title>\n<path fill=\"#b5daf5\" stroke=\"#000000\" d=\"M713.5,-512C713.5,-512 581.5,-512 581.5,-512 575.5,-512 569.5,-506 569.5,-500 569.5,-500 569.5,-441 569.5,-441 569.5,-435 575.5,-429 581.5,-429 581.5,-429 713.5,-429 713.5,-429 719.5,-429 725.5,-435 725.5,-441 725.5,-441 725.5,-500 725.5,-500 725.5,-506 719.5,-512 713.5,-512\"/>\n<text text-anchor=\"middle\" x=\"647.5\" y=\"-496.8\" font-family=\"Helvetica,sans-Serif\" font-size=\"14.00\" fill=\"#000000\">Polyuria_Yes &lt;= 0.5</text>\n<text text-anchor=\"middle\" x=\"647.5\" y=\"-481.8\" font-family=\"Helvetica,sans-Serif\" font-size=\"14.00\" fill=\"#000000\">gini = 0.474</text>\n<text text-anchor=\"middle\" x=\"647.5\" y=\"-466.8\" font-family=\"Helvetica,sans-Serif\" font-size=\"14.00\" fill=\"#000000\">samples = 100.0%</text>\n<text text-anchor=\"middle\" x=\"647.5\" y=\"-451.8\" font-family=\"Helvetica,sans-Serif\" font-size=\"14.00\" fill=\"#000000\">value = [0.386, 0.614]</text>\n<text text-anchor=\"middle\" x=\"647.5\" y=\"-436.8\" font-family=\"Helvetica,sans-Serif\" font-size=\"14.00\" fill=\"#000000\">class = Positive</text>\n</g>\n<!-- 1 -->\n<g id=\"node2\" class=\"node\">\n<title>1</title>\n<path fill=\"#f0b88f\" stroke=\"#000000\" d=\"M607,-393C607,-393 402,-393 402,-393 396,-393 390,-387 390,-381 390,-381 390,-322 390,-322 390,-316 396,-310 402,-310 402,-310 607,-310 607,-310 613,-310 619,-316 619,-322 619,-322 619,-381 619,-381 619,-387 613,-393 607,-393\"/>\n<text text-anchor=\"middle\" x=\"504.5\" y=\"-377.8\" font-family=\"Helvetica,sans-Serif\" font-size=\"14.00\" fill=\"#000000\">Sudden_weight_loss_Yes &lt;= 0.5</text>\n<text text-anchor=\"middle\" x=\"504.5\" y=\"-362.8\" font-family=\"Helvetica,sans-Serif\" font-size=\"14.00\" fill=\"#000000\">gini = 0.422</text>\n<text text-anchor=\"middle\" x=\"504.5\" y=\"-347.8\" font-family=\"Helvetica,sans-Serif\" font-size=\"14.00\" fill=\"#000000\">samples = 49.7%</text>\n<text text-anchor=\"middle\" x=\"504.5\" y=\"-332.8\" font-family=\"Helvetica,sans-Serif\" font-size=\"14.00\" fill=\"#000000\">value = [0.697, 0.303]</text>\n<text text-anchor=\"middle\" x=\"504.5\" y=\"-317.8\" font-family=\"Helvetica,sans-Serif\" font-size=\"14.00\" fill=\"#000000\">class = Negative</text>\n</g>\n<!-- 0&#45;&gt;1 -->\n<g id=\"edge1\" class=\"edge\">\n<title>0&#45;&gt;1</title>\n<path fill=\"none\" stroke=\"#000000\" d=\"M597.4855,-428.8796C586.2299,-419.513 574.1912,-409.4948 562.6354,-399.8784\"/>\n<polygon fill=\"#000000\" stroke=\"#000000\" points=\"564.6534,-397.0043 554.7279,-393.2981 560.1758,-402.385 564.6534,-397.0043\"/>\n<text text-anchor=\"middle\" x=\"557.0085\" y=\"-414.4938\" font-family=\"Helvetica,sans-Serif\" font-size=\"14.00\" fill=\"#000000\">True</text>\n</g>\n<!-- 60 -->\n<g id=\"node15\" class=\"node\">\n<title>60</title>\n<path fill=\"#4aa5e7\" stroke=\"#000000\" d=\"M819.5,-393C819.5,-393 687.5,-393 687.5,-393 681.5,-393 675.5,-387 675.5,-381 675.5,-381 675.5,-322 675.5,-322 675.5,-316 681.5,-310 687.5,-310 687.5,-310 819.5,-310 819.5,-310 825.5,-310 831.5,-316 831.5,-322 831.5,-322 831.5,-381 831.5,-381 831.5,-387 825.5,-393 819.5,-393\"/>\n<text text-anchor=\"middle\" x=\"753.5\" y=\"-377.8\" font-family=\"Helvetica,sans-Serif\" font-size=\"14.00\" fill=\"#000000\">Alopecia_No &lt;= 0.5</text>\n<text text-anchor=\"middle\" x=\"753.5\" y=\"-362.8\" font-family=\"Helvetica,sans-Serif\" font-size=\"14.00\" fill=\"#000000\">gini = 0.144</text>\n<text text-anchor=\"middle\" x=\"753.5\" y=\"-347.8\" font-family=\"Helvetica,sans-Serif\" font-size=\"14.00\" fill=\"#000000\">samples = 50.3%</text>\n<text text-anchor=\"middle\" x=\"753.5\" y=\"-332.8\" font-family=\"Helvetica,sans-Serif\" font-size=\"14.00\" fill=\"#000000\">value = [0.078, 0.922]</text>\n<text text-anchor=\"middle\" x=\"753.5\" y=\"-317.8\" font-family=\"Helvetica,sans-Serif\" font-size=\"14.00\" fill=\"#000000\">class = Positive</text>\n</g>\n<!-- 0&#45;&gt;60 -->\n<g id=\"edge14\" class=\"edge\">\n<title>0&#45;&gt;60</title>\n<path fill=\"none\" stroke=\"#000000\" d=\"M684.5737,-428.8796C692.5961,-419.8733 701.1552,-410.2644 709.4167,-400.9897\"/>\n<polygon fill=\"#000000\" stroke=\"#000000\" points=\"712.2302,-403.0933 716.2681,-393.2981 707.0031,-398.4373 712.2302,-403.0933\"/>\n<text text-anchor=\"middle\" x=\"717.7101\" y=\"-414.5564\" font-family=\"Helvetica,sans-Serif\" font-size=\"14.00\" fill=\"#000000\">False</text>\n</g>\n<!-- 2 -->\n<g id=\"node3\" class=\"node\">\n<title>2</title>\n<path fill=\"#eda674\" stroke=\"#000000\" d=\"M358.5,-274C358.5,-274 226.5,-274 226.5,-274 220.5,-274 214.5,-268 214.5,-262 214.5,-262 214.5,-203 214.5,-203 214.5,-197 220.5,-191 226.5,-191 226.5,-191 358.5,-191 358.5,-191 364.5,-191 370.5,-197 370.5,-203 370.5,-203 370.5,-262 370.5,-262 370.5,-268 364.5,-274 358.5,-274\"/>\n<text text-anchor=\"middle\" x=\"292.5\" y=\"-258.8\" font-family=\"Helvetica,sans-Serif\" font-size=\"14.00\" fill=\"#000000\">Gender_Male &lt;= 0.5</text>\n<text text-anchor=\"middle\" x=\"292.5\" y=\"-243.8\" font-family=\"Helvetica,sans-Serif\" font-size=\"14.00\" fill=\"#000000\">gini = 0.352</text>\n<text text-anchor=\"middle\" x=\"292.5\" y=\"-228.8\" font-family=\"Helvetica,sans-Serif\" font-size=\"14.00\" fill=\"#000000\">samples = 38.3%</text>\n<text text-anchor=\"middle\" x=\"292.5\" y=\"-213.8\" font-family=\"Helvetica,sans-Serif\" font-size=\"14.00\" fill=\"#000000\">value = [0.772, 0.228]</text>\n<text text-anchor=\"middle\" x=\"292.5\" y=\"-198.8\" font-family=\"Helvetica,sans-Serif\" font-size=\"14.00\" fill=\"#000000\">class = Negative</text>\n</g>\n<!-- 1&#45;&gt;2 -->\n<g id=\"edge2\" class=\"edge\">\n<title>1&#45;&gt;2</title>\n<path fill=\"none\" stroke=\"#000000\" d=\"M430.3527,-309.8796C412.6007,-299.915 393.5348,-289.2129 375.4148,-279.0418\"/>\n<polygon fill=\"#000000\" stroke=\"#000000\" points=\"377.0388,-275.9397 366.6054,-274.0969 373.6124,-282.0438 377.0388,-275.9397\"/>\n</g>\n<!-- 47 -->\n<g id=\"node10\" class=\"node\">\n<title>47</title>\n<path fill=\"#d9ecfa\" stroke=\"#000000\" d=\"M570.5,-274C570.5,-274 438.5,-274 438.5,-274 432.5,-274 426.5,-268 426.5,-262 426.5,-262 426.5,-203 426.5,-203 426.5,-197 432.5,-191 438.5,-191 438.5,-191 570.5,-191 570.5,-191 576.5,-191 582.5,-197 582.5,-203 582.5,-203 582.5,-262 582.5,-262 582.5,-268 576.5,-274 570.5,-274\"/>\n<text text-anchor=\"middle\" x=\"504.5\" y=\"-258.8\" font-family=\"Helvetica,sans-Serif\" font-size=\"14.00\" fill=\"#000000\">Gender_Male &lt;= 0.5</text>\n<text text-anchor=\"middle\" x=\"504.5\" y=\"-243.8\" font-family=\"Helvetica,sans-Serif\" font-size=\"14.00\" fill=\"#000000\">gini = 0.494</text>\n<text text-anchor=\"middle\" x=\"504.5\" y=\"-228.8\" font-family=\"Helvetica,sans-Serif\" font-size=\"14.00\" fill=\"#000000\">samples = 11.4%</text>\n<text text-anchor=\"middle\" x=\"504.5\" y=\"-213.8\" font-family=\"Helvetica,sans-Serif\" font-size=\"14.00\" fill=\"#000000\">value = [0.447, 0.553]</text>\n<text text-anchor=\"middle\" x=\"504.5\" y=\"-198.8\" font-family=\"Helvetica,sans-Serif\" font-size=\"14.00\" fill=\"#000000\">class = Positive</text>\n</g>\n<!-- 1&#45;&gt;47 -->\n<g id=\"edge9\" class=\"edge\">\n<title>1&#45;&gt;47</title>\n<path fill=\"none\" stroke=\"#000000\" d=\"M504.5,-309.8796C504.5,-301.6838 504.5,-292.9891 504.5,-284.5013\"/>\n<polygon fill=\"#000000\" stroke=\"#000000\" points=\"508.0001,-284.298 504.5,-274.2981 501.0001,-284.2981 508.0001,-284.298\"/>\n</g>\n<!-- 3 -->\n<g id=\"node4\" class=\"node\">\n<title>3</title>\n<path fill=\"#c1e0f7\" stroke=\"#000000\" d=\"M185,-155C185,-155 12,-155 12,-155 6,-155 0,-149 0,-143 0,-143 0,-84 0,-84 0,-78 6,-72 12,-72 12,-72 185,-72 185,-72 191,-72 197,-78 197,-84 197,-84 197,-143 197,-143 197,-149 191,-155 185,-155\"/>\n<text text-anchor=\"middle\" x=\"98.5\" y=\"-139.8\" font-family=\"Helvetica,sans-Serif\" font-size=\"14.00\" fill=\"#000000\">Delayed_healing_No &lt;= 0.5</text>\n<text text-anchor=\"middle\" x=\"98.5\" y=\"-124.8\" font-family=\"Helvetica,sans-Serif\" font-size=\"14.00\" fill=\"#000000\">gini = 0.483</text>\n<text text-anchor=\"middle\" x=\"98.5\" y=\"-109.8\" font-family=\"Helvetica,sans-Serif\" font-size=\"14.00\" fill=\"#000000\">samples = 8.1%</text>\n<text text-anchor=\"middle\" x=\"98.5\" y=\"-94.8\" font-family=\"Helvetica,sans-Serif\" font-size=\"14.00\" fill=\"#000000\">value = [0.407, 0.593]</text>\n<text text-anchor=\"middle\" x=\"98.5\" y=\"-79.8\" font-family=\"Helvetica,sans-Serif\" font-size=\"14.00\" fill=\"#000000\">class = Positive</text>\n</g>\n<!-- 2&#45;&gt;3 -->\n<g id=\"edge3\" class=\"edge\">\n<title>2&#45;&gt;3</title>\n<path fill=\"none\" stroke=\"#000000\" d=\"M224.6482,-190.8796C208.6989,-181.0962 191.5904,-170.6019 175.2802,-160.5971\"/>\n<polygon fill=\"#000000\" stroke=\"#000000\" points=\"176.6677,-157.3422 166.3135,-155.0969 173.0075,-163.3091 176.6677,-157.3422\"/>\n</g>\n<!-- 14 -->\n<g id=\"node7\" class=\"node\">\n<title>14</title>\n<path fill=\"#e99457\" stroke=\"#000000\" d=\"M358,-155C358,-155 227,-155 227,-155 221,-155 215,-149 215,-143 215,-143 215,-84 215,-84 215,-78 221,-72 227,-72 227,-72 358,-72 358,-72 364,-72 370,-78 370,-84 370,-84 370,-143 370,-143 370,-149 364,-155 358,-155\"/>\n<text text-anchor=\"middle\" x=\"292.5\" y=\"-139.8\" font-family=\"Helvetica,sans-Serif\" font-size=\"14.00\" fill=\"#000000\">Polydipsia_No &lt;= 0.5</text>\n<text text-anchor=\"middle\" x=\"292.5\" y=\"-124.8\" font-family=\"Helvetica,sans-Serif\" font-size=\"14.00\" fill=\"#000000\">gini = 0.226</text>\n<text text-anchor=\"middle\" x=\"292.5\" y=\"-109.8\" font-family=\"Helvetica,sans-Serif\" font-size=\"14.00\" fill=\"#000000\">samples = 30.1%</text>\n<text text-anchor=\"middle\" x=\"292.5\" y=\"-94.8\" font-family=\"Helvetica,sans-Serif\" font-size=\"14.00\" fill=\"#000000\">value = [0.87, 0.13]</text>\n<text text-anchor=\"middle\" x=\"292.5\" y=\"-79.8\" font-family=\"Helvetica,sans-Serif\" font-size=\"14.00\" fill=\"#000000\">class = Negative</text>\n</g>\n<!-- 2&#45;&gt;14 -->\n<g id=\"edge6\" class=\"edge\">\n<title>2&#45;&gt;14</title>\n<path fill=\"none\" stroke=\"#000000\" d=\"M292.5,-190.8796C292.5,-182.6838 292.5,-173.9891 292.5,-165.5013\"/>\n<polygon fill=\"#000000\" stroke=\"#000000\" points=\"296.0001,-165.298 292.5,-155.2981 289.0001,-165.2981 296.0001,-165.298\"/>\n</g>\n<!-- 4 -->\n<g id=\"node5\" class=\"node\">\n<title>4</title>\n<path fill=\"#c0c0c0\" stroke=\"#000000\" d=\"M77.5,-36C77.5,-36 47.5,-36 47.5,-36 41.5,-36 35.5,-30 35.5,-24 35.5,-24 35.5,-12 35.5,-12 35.5,-6 41.5,0 47.5,0 47.5,0 77.5,0 77.5,0 83.5,0 89.5,-6 89.5,-12 89.5,-12 89.5,-24 89.5,-24 89.5,-30 83.5,-36 77.5,-36\"/>\n<text text-anchor=\"middle\" x=\"62.5\" y=\"-14.3\" font-family=\"Helvetica,sans-Serif\" font-size=\"14.00\" fill=\"#000000\">(...)</text>\n</g>\n<!-- 3&#45;&gt;4 -->\n<g id=\"edge4\" class=\"edge\">\n<title>3&#45;&gt;4</title>\n<path fill=\"none\" stroke=\"#000000\" d=\"M82.8146,-71.8901C79.4739,-63.0279 76.025,-53.8788 72.9386,-45.6913\"/>\n<polygon fill=\"#000000\" stroke=\"#000000\" points=\"76.1877,-44.3878 69.3853,-36.2651 69.6376,-46.8569 76.1877,-44.3878\"/>\n</g>\n<!-- 7 -->\n<g id=\"node6\" class=\"node\">\n<title>7</title>\n<path fill=\"#c0c0c0\" stroke=\"#000000\" d=\"M149.5,-36C149.5,-36 119.5,-36 119.5,-36 113.5,-36 107.5,-30 107.5,-24 107.5,-24 107.5,-12 107.5,-12 107.5,-6 113.5,0 119.5,0 119.5,0 149.5,0 149.5,0 155.5,0 161.5,-6 161.5,-12 161.5,-12 161.5,-24 161.5,-24 161.5,-30 155.5,-36 149.5,-36\"/>\n<text text-anchor=\"middle\" x=\"134.5\" y=\"-14.3\" font-family=\"Helvetica,sans-Serif\" font-size=\"14.00\" fill=\"#000000\">(...)</text>\n</g>\n<!-- 3&#45;&gt;7 -->\n<g id=\"edge5\" class=\"edge\">\n<title>3&#45;&gt;7</title>\n<path fill=\"none\" stroke=\"#000000\" d=\"M114.1854,-71.8901C117.5261,-63.0279 120.975,-53.8788 124.0614,-45.6913\"/>\n<polygon fill=\"#000000\" stroke=\"#000000\" points=\"127.3624,-46.8569 127.6147,-36.2651 120.8123,-44.3878 127.3624,-46.8569\"/>\n</g>\n<!-- 15 -->\n<g id=\"node8\" class=\"node\">\n<title>15</title>\n<path fill=\"#c0c0c0\" stroke=\"#000000\" d=\"M271.5,-36C271.5,-36 241.5,-36 241.5,-36 235.5,-36 229.5,-30 229.5,-24 229.5,-24 229.5,-12 229.5,-12 229.5,-6 235.5,0 241.5,0 241.5,0 271.5,0 271.5,0 277.5,0 283.5,-6 283.5,-12 283.5,-12 283.5,-24 283.5,-24 283.5,-30 277.5,-36 271.5,-36\"/>\n<text text-anchor=\"middle\" x=\"256.5\" y=\"-14.3\" font-family=\"Helvetica,sans-Serif\" font-size=\"14.00\" fill=\"#000000\">(...)</text>\n</g>\n<!-- 14&#45;&gt;15 -->\n<g id=\"edge7\" class=\"edge\">\n<title>14&#45;&gt;15</title>\n<path fill=\"none\" stroke=\"#000000\" d=\"M276.8146,-71.8901C273.4739,-63.0279 270.025,-53.8788 266.9386,-45.6913\"/>\n<polygon fill=\"#000000\" stroke=\"#000000\" points=\"270.1877,-44.3878 263.3853,-36.2651 263.6376,-46.8569 270.1877,-44.3878\"/>\n</g>\n<!-- 26 -->\n<g id=\"node9\" class=\"node\">\n<title>26</title>\n<path fill=\"#c0c0c0\" stroke=\"#000000\" d=\"M343.5,-36C343.5,-36 313.5,-36 313.5,-36 307.5,-36 301.5,-30 301.5,-24 301.5,-24 301.5,-12 301.5,-12 301.5,-6 307.5,0 313.5,0 313.5,0 343.5,0 343.5,0 349.5,0 355.5,-6 355.5,-12 355.5,-12 355.5,-24 355.5,-24 355.5,-30 349.5,-36 343.5,-36\"/>\n<text text-anchor=\"middle\" x=\"328.5\" y=\"-14.3\" font-family=\"Helvetica,sans-Serif\" font-size=\"14.00\" fill=\"#000000\">(...)</text>\n</g>\n<!-- 14&#45;&gt;26 -->\n<g id=\"edge8\" class=\"edge\">\n<title>14&#45;&gt;26</title>\n<path fill=\"none\" stroke=\"#000000\" d=\"M308.1854,-71.8901C311.5261,-63.0279 314.975,-53.8788 318.0614,-45.6913\"/>\n<polygon fill=\"#000000\" stroke=\"#000000\" points=\"321.3624,-46.8569 321.6147,-36.2651 314.8123,-44.3878 321.3624,-46.8569\"/>\n</g>\n<!-- 48 -->\n<g id=\"node11\" class=\"node\">\n<title>48</title>\n<path fill=\"#399de5\" stroke=\"#000000\" d=\"M499,-147.5C499,-147.5 400,-147.5 400,-147.5 394,-147.5 388,-141.5 388,-135.5 388,-135.5 388,-91.5 388,-91.5 388,-85.5 394,-79.5 400,-79.5 400,-79.5 499,-79.5 499,-79.5 505,-79.5 511,-85.5 511,-91.5 511,-91.5 511,-135.5 511,-135.5 511,-141.5 505,-147.5 499,-147.5\"/>\n<text text-anchor=\"middle\" x=\"449.5\" y=\"-132.3\" font-family=\"Helvetica,sans-Serif\" font-size=\"14.00\" fill=\"#000000\">gini = 0.0</text>\n<text text-anchor=\"middle\" x=\"449.5\" y=\"-117.3\" font-family=\"Helvetica,sans-Serif\" font-size=\"14.00\" fill=\"#000000\">samples = 3.9%</text>\n<text text-anchor=\"middle\" x=\"449.5\" y=\"-102.3\" font-family=\"Helvetica,sans-Serif\" font-size=\"14.00\" fill=\"#000000\">value = [0.0, 1.0]</text>\n<text text-anchor=\"middle\" x=\"449.5\" y=\"-87.3\" font-family=\"Helvetica,sans-Serif\" font-size=\"14.00\" fill=\"#000000\">class = Positive</text>\n</g>\n<!-- 47&#45;&gt;48 -->\n<g id=\"edge10\" class=\"edge\">\n<title>47&#45;&gt;48</title>\n<path fill=\"none\" stroke=\"#000000\" d=\"M485.2637,-190.8796C480.1814,-179.8835 474.6841,-167.9893 469.5595,-156.9015\"/>\n<polygon fill=\"#000000\" stroke=\"#000000\" points=\"472.7324,-155.4239 465.3598,-147.8149 466.3782,-158.3607 472.7324,-155.4239\"/>\n</g>\n<!-- 49 -->\n<g id=\"node12\" class=\"node\">\n<title>49</title>\n<path fill=\"#f1bc96\" stroke=\"#000000\" d=\"M661.5,-155C661.5,-155 541.5,-155 541.5,-155 535.5,-155 529.5,-149 529.5,-143 529.5,-143 529.5,-84 529.5,-84 529.5,-78 535.5,-72 541.5,-72 541.5,-72 661.5,-72 661.5,-72 667.5,-72 673.5,-78 673.5,-84 673.5,-84 673.5,-143 673.5,-143 673.5,-149 667.5,-155 661.5,-155\"/>\n<text text-anchor=\"middle\" x=\"601.5\" y=\"-139.8\" font-family=\"Helvetica,sans-Serif\" font-size=\"14.00\" fill=\"#000000\">Irritability_No &lt;= 0.5</text>\n<text text-anchor=\"middle\" x=\"601.5\" y=\"-124.8\" font-family=\"Helvetica,sans-Serif\" font-size=\"14.00\" fill=\"#000000\">gini = 0.435</text>\n<text text-anchor=\"middle\" x=\"601.5\" y=\"-109.8\" font-family=\"Helvetica,sans-Serif\" font-size=\"14.00\" fill=\"#000000\">samples = 7.5%</text>\n<text text-anchor=\"middle\" x=\"601.5\" y=\"-94.8\" font-family=\"Helvetica,sans-Serif\" font-size=\"14.00\" fill=\"#000000\">value = [0.68, 0.32]</text>\n<text text-anchor=\"middle\" x=\"601.5\" y=\"-79.8\" font-family=\"Helvetica,sans-Serif\" font-size=\"14.00\" fill=\"#000000\">class = Negative</text>\n</g>\n<!-- 47&#45;&gt;49 -->\n<g id=\"edge11\" class=\"edge\">\n<title>47&#45;&gt;49</title>\n<path fill=\"none\" stroke=\"#000000\" d=\"M538.4259,-190.8796C545.6938,-181.9633 553.443,-172.4565 560.9328,-163.268\"/>\n<polygon fill=\"#000000\" stroke=\"#000000\" points=\"563.824,-165.2606 567.4293,-155.2981 558.3982,-160.8379 563.824,-165.2606\"/>\n</g>\n<!-- 50 -->\n<g id=\"node13\" class=\"node\">\n<title>50</title>\n<path fill=\"#c0c0c0\" stroke=\"#000000\" d=\"M580.5,-36C580.5,-36 550.5,-36 550.5,-36 544.5,-36 538.5,-30 538.5,-24 538.5,-24 538.5,-12 538.5,-12 538.5,-6 544.5,0 550.5,0 550.5,0 580.5,0 580.5,0 586.5,0 592.5,-6 592.5,-12 592.5,-12 592.5,-24 592.5,-24 592.5,-30 586.5,-36 580.5,-36\"/>\n<text text-anchor=\"middle\" x=\"565.5\" y=\"-14.3\" font-family=\"Helvetica,sans-Serif\" font-size=\"14.00\" fill=\"#000000\">(...)</text>\n</g>\n<!-- 49&#45;&gt;50 -->\n<g id=\"edge12\" class=\"edge\">\n<title>49&#45;&gt;50</title>\n<path fill=\"none\" stroke=\"#000000\" d=\"M585.8146,-71.8901C582.4739,-63.0279 579.025,-53.8788 575.9386,-45.6913\"/>\n<polygon fill=\"#000000\" stroke=\"#000000\" points=\"579.1877,-44.3878 572.3853,-36.2651 572.6376,-46.8569 579.1877,-44.3878\"/>\n</g>\n<!-- 51 -->\n<g id=\"node14\" class=\"node\">\n<title>51</title>\n<path fill=\"#c0c0c0\" stroke=\"#000000\" d=\"M652.5,-36C652.5,-36 622.5,-36 622.5,-36 616.5,-36 610.5,-30 610.5,-24 610.5,-24 610.5,-12 610.5,-12 610.5,-6 616.5,0 622.5,0 622.5,0 652.5,0 652.5,0 658.5,0 664.5,-6 664.5,-12 664.5,-12 664.5,-24 664.5,-24 664.5,-30 658.5,-36 652.5,-36\"/>\n<text text-anchor=\"middle\" x=\"637.5\" y=\"-14.3\" font-family=\"Helvetica,sans-Serif\" font-size=\"14.00\" fill=\"#000000\">(...)</text>\n</g>\n<!-- 49&#45;&gt;51 -->\n<g id=\"edge13\" class=\"edge\">\n<title>49&#45;&gt;51</title>\n<path fill=\"none\" stroke=\"#000000\" d=\"M617.1854,-71.8901C620.5261,-63.0279 623.975,-53.8788 627.0614,-45.6913\"/>\n<polygon fill=\"#000000\" stroke=\"#000000\" points=\"630.3624,-46.8569 630.6147,-36.2651 623.8123,-44.3878 630.3624,-46.8569\"/>\n</g>\n<!-- 61 -->\n<g id=\"node16\" class=\"node\">\n<title>61</title>\n<path fill=\"#80c0ee\" stroke=\"#000000\" d=\"M843,-274C843,-274 664,-274 664,-274 658,-274 652,-268 652,-262 652,-262 652,-203 652,-203 652,-197 658,-191 664,-191 664,-191 843,-191 843,-191 849,-191 855,-197 855,-203 855,-203 855,-262 855,-262 855,-268 849,-274 843,-274\"/>\n<text text-anchor=\"middle\" x=\"753.5\" y=\"-258.8\" font-family=\"Helvetica,sans-Serif\" font-size=\"14.00\" fill=\"#000000\">Delayed_healing_Yes &lt;= 0.5</text>\n<text text-anchor=\"middle\" x=\"753.5\" y=\"-243.8\" font-family=\"Helvetica,sans-Serif\" font-size=\"14.00\" fill=\"#000000\">gini = 0.39</text>\n<text text-anchor=\"middle\" x=\"753.5\" y=\"-228.8\" font-family=\"Helvetica,sans-Serif\" font-size=\"14.00\" fill=\"#000000\">samples = 14.8%</text>\n<text text-anchor=\"middle\" x=\"753.5\" y=\"-213.8\" font-family=\"Helvetica,sans-Serif\" font-size=\"14.00\" fill=\"#000000\">value = [0.265, 0.735]</text>\n<text text-anchor=\"middle\" x=\"753.5\" y=\"-198.8\" font-family=\"Helvetica,sans-Serif\" font-size=\"14.00\" fill=\"#000000\">class = Positive</text>\n</g>\n<!-- 60&#45;&gt;61 -->\n<g id=\"edge15\" class=\"edge\">\n<title>60&#45;&gt;61</title>\n<path fill=\"none\" stroke=\"#000000\" d=\"M753.5,-309.8796C753.5,-301.6838 753.5,-292.9891 753.5,-284.5013\"/>\n<polygon fill=\"#000000\" stroke=\"#000000\" points=\"757.0001,-284.298 753.5,-274.2981 750.0001,-284.2981 757.0001,-284.298\"/>\n</g>\n<!-- 74 -->\n<g id=\"node21\" class=\"node\">\n<title>74</title>\n<path fill=\"#399de5\" stroke=\"#000000\" d=\"M989.5,-266.5C989.5,-266.5 885.5,-266.5 885.5,-266.5 879.5,-266.5 873.5,-260.5 873.5,-254.5 873.5,-254.5 873.5,-210.5 873.5,-210.5 873.5,-204.5 879.5,-198.5 885.5,-198.5 885.5,-198.5 989.5,-198.5 989.5,-198.5 995.5,-198.5 1001.5,-204.5 1001.5,-210.5 1001.5,-210.5 1001.5,-254.5 1001.5,-254.5 1001.5,-260.5 995.5,-266.5 989.5,-266.5\"/>\n<text text-anchor=\"middle\" x=\"937.5\" y=\"-251.3\" font-family=\"Helvetica,sans-Serif\" font-size=\"14.00\" fill=\"#000000\">gini = 0.0</text>\n<text text-anchor=\"middle\" x=\"937.5\" y=\"-236.3\" font-family=\"Helvetica,sans-Serif\" font-size=\"14.00\" fill=\"#000000\">samples = 35.5%</text>\n<text text-anchor=\"middle\" x=\"937.5\" y=\"-221.3\" font-family=\"Helvetica,sans-Serif\" font-size=\"14.00\" fill=\"#000000\">value = [0.0, 1.0]</text>\n<text text-anchor=\"middle\" x=\"937.5\" y=\"-206.3\" font-family=\"Helvetica,sans-Serif\" font-size=\"14.00\" fill=\"#000000\">class = Positive</text>\n</g>\n<!-- 60&#45;&gt;74 -->\n<g id=\"edge20\" class=\"edge\">\n<title>60&#45;&gt;74</title>\n<path fill=\"none\" stroke=\"#000000\" d=\"M817.8543,-309.8796C836.8167,-297.6158 857.5066,-284.2348 876.2674,-272.1015\"/>\n<polygon fill=\"#000000\" stroke=\"#000000\" points=\"878.2421,-274.9926 884.7383,-266.623 874.4407,-269.1148 878.2421,-274.9926\"/>\n</g>\n<!-- 62 -->\n<g id=\"node17\" class=\"node\">\n<title>62</title>\n<path fill=\"#399de5\" stroke=\"#000000\" d=\"M803,-147.5C803,-147.5 704,-147.5 704,-147.5 698,-147.5 692,-141.5 692,-135.5 692,-135.5 692,-91.5 692,-91.5 692,-85.5 698,-79.5 704,-79.5 704,-79.5 803,-79.5 803,-79.5 809,-79.5 815,-85.5 815,-91.5 815,-91.5 815,-135.5 815,-135.5 815,-141.5 809,-147.5 803,-147.5\"/>\n<text text-anchor=\"middle\" x=\"753.5\" y=\"-132.3\" font-family=\"Helvetica,sans-Serif\" font-size=\"14.00\" fill=\"#000000\">gini = 0.0</text>\n<text text-anchor=\"middle\" x=\"753.5\" y=\"-117.3\" font-family=\"Helvetica,sans-Serif\" font-size=\"14.00\" fill=\"#000000\">samples = 5.1%</text>\n<text text-anchor=\"middle\" x=\"753.5\" y=\"-102.3\" font-family=\"Helvetica,sans-Serif\" font-size=\"14.00\" fill=\"#000000\">value = [0.0, 1.0]</text>\n<text text-anchor=\"middle\" x=\"753.5\" y=\"-87.3\" font-family=\"Helvetica,sans-Serif\" font-size=\"14.00\" fill=\"#000000\">class = Positive</text>\n</g>\n<!-- 61&#45;&gt;62 -->\n<g id=\"edge16\" class=\"edge\">\n<title>61&#45;&gt;62</title>\n<path fill=\"none\" stroke=\"#000000\" d=\"M753.5,-190.8796C753.5,-180.2134 753.5,-168.7021 753.5,-157.9015\"/>\n<polygon fill=\"#000000\" stroke=\"#000000\" points=\"757.0001,-157.8149 753.5,-147.8149 750.0001,-157.815 757.0001,-157.8149\"/>\n</g>\n<!-- 63 -->\n<g id=\"node18\" class=\"node\">\n<title>63</title>\n<path fill=\"#c0e0f7\" stroke=\"#000000\" d=\"M977.5,-155C977.5,-155 845.5,-155 845.5,-155 839.5,-155 833.5,-149 833.5,-143 833.5,-143 833.5,-84 833.5,-84 833.5,-78 839.5,-72 845.5,-72 845.5,-72 977.5,-72 977.5,-72 983.5,-72 989.5,-78 989.5,-84 989.5,-84 989.5,-143 989.5,-143 989.5,-149 983.5,-155 977.5,-155\"/>\n<text text-anchor=\"middle\" x=\"911.5\" y=\"-139.8\" font-family=\"Helvetica,sans-Serif\" font-size=\"14.00\" fill=\"#000000\">Itching_No &lt;= 0.5</text>\n<text text-anchor=\"middle\" x=\"911.5\" y=\"-124.8\" font-family=\"Helvetica,sans-Serif\" font-size=\"14.00\" fill=\"#000000\">gini = 0.482</text>\n<text text-anchor=\"middle\" x=\"911.5\" y=\"-109.8\" font-family=\"Helvetica,sans-Serif\" font-size=\"14.00\" fill=\"#000000\">samples = 9.6%</text>\n<text text-anchor=\"middle\" x=\"911.5\" y=\"-94.8\" font-family=\"Helvetica,sans-Serif\" font-size=\"14.00\" fill=\"#000000\">value = [0.406, 0.594]</text>\n<text text-anchor=\"middle\" x=\"911.5\" y=\"-79.8\" font-family=\"Helvetica,sans-Serif\" font-size=\"14.00\" fill=\"#000000\">class = Positive</text>\n</g>\n<!-- 61&#45;&gt;63 -->\n<g id=\"edge17\" class=\"edge\">\n<title>61&#45;&gt;63</title>\n<path fill=\"none\" stroke=\"#000000\" d=\"M808.7607,-190.8796C821.5099,-181.2774 835.1683,-170.9903 848.2291,-161.1534\"/>\n<polygon fill=\"#000000\" stroke=\"#000000\" points=\"850.3883,-163.9089 856.2705,-155.0969 846.1769,-158.3174 850.3883,-163.9089\"/>\n</g>\n<!-- 64 -->\n<g id=\"node19\" class=\"node\">\n<title>64</title>\n<path fill=\"#c0c0c0\" stroke=\"#000000\" d=\"M890.5,-36C890.5,-36 860.5,-36 860.5,-36 854.5,-36 848.5,-30 848.5,-24 848.5,-24 848.5,-12 848.5,-12 848.5,-6 854.5,0 860.5,0 860.5,0 890.5,0 890.5,0 896.5,0 902.5,-6 902.5,-12 902.5,-12 902.5,-24 902.5,-24 902.5,-30 896.5,-36 890.5,-36\"/>\n<text text-anchor=\"middle\" x=\"875.5\" y=\"-14.3\" font-family=\"Helvetica,sans-Serif\" font-size=\"14.00\" fill=\"#000000\">(...)</text>\n</g>\n<!-- 63&#45;&gt;64 -->\n<g id=\"edge18\" class=\"edge\">\n<title>63&#45;&gt;64</title>\n<path fill=\"none\" stroke=\"#000000\" d=\"M895.8146,-71.8901C892.4739,-63.0279 889.025,-53.8788 885.9386,-45.6913\"/>\n<polygon fill=\"#000000\" stroke=\"#000000\" points=\"889.1877,-44.3878 882.3853,-36.2651 882.6376,-46.8569 889.1877,-44.3878\"/>\n</g>\n<!-- 73 -->\n<g id=\"node20\" class=\"node\">\n<title>73</title>\n<path fill=\"#c0c0c0\" stroke=\"#000000\" d=\"M962.5,-36C962.5,-36 932.5,-36 932.5,-36 926.5,-36 920.5,-30 920.5,-24 920.5,-24 920.5,-12 920.5,-12 920.5,-6 926.5,0 932.5,0 932.5,0 962.5,0 962.5,0 968.5,0 974.5,-6 974.5,-12 974.5,-12 974.5,-24 974.5,-24 974.5,-30 968.5,-36 962.5,-36\"/>\n<text text-anchor=\"middle\" x=\"947.5\" y=\"-14.3\" font-family=\"Helvetica,sans-Serif\" font-size=\"14.00\" fill=\"#000000\">(...)</text>\n</g>\n<!-- 63&#45;&gt;73 -->\n<g id=\"edge19\" class=\"edge\">\n<title>63&#45;&gt;73</title>\n<path fill=\"none\" stroke=\"#000000\" d=\"M927.1854,-71.8901C930.5261,-63.0279 933.975,-53.8788 937.0614,-45.6913\"/>\n<polygon fill=\"#000000\" stroke=\"#000000\" points=\"940.3624,-46.8569 940.6147,-36.2651 933.8123,-44.3878 940.3624,-46.8569\"/>\n</g>\n</g>\n</svg>\n"
          },
          "metadata": {
            "tags": []
          }
        }
      ]
    },
    {
      "cell_type": "code",
      "metadata": {
        "colab": {
          "base_uri": "https://localhost:8080/",
          "height": 955
        },
        "id": "r2x5YD-5EVPW",
        "outputId": "3f69c83d-b0ae-4864-9448-76ba2fa7cd67"
      },
      "source": [
        "# visualyzing the feature importances\n",
        "encoder_columns = pipeline1.named_steps['onehotencoder']\n",
        "\n",
        "encoded_columns = encoder_columns.transform(X_validate).columns\n",
        "\n",
        "importances = pd.Series(model.feature_importances_, encoded_columns)\n",
        "\n",
        "plt.figure(figsize=(15,25))\n",
        "\n",
        "importances.sort_values().plot.barh();"
      ],
      "execution_count": null,
      "outputs": [
        {
          "output_type": "display_data",
          "data": {
            "image/png": "[encoded data removed]",
            "text/plain": [
              "<Figure size 1080x1800 with 1 Axes>"
            ]
          },
          "metadata": {
            "tags": [],
            "needs_background": "light"
          }
        }
      ]
    },
    {
      "cell_type": "markdown",
      "metadata": {
        "id": "d2duF4yIEhJX"
      },
      "source": [
        "Random Forest"
      ]
    },
    {
      "cell_type": "code",
      "metadata": {
        "colab": {
          "base_uri": "https://localhost:8080/"
        },
        "id": "rTZ2NvX4Eb9e",
        "outputId": "957c8993-8c3d-4e4f-d538-bf568a233d80"
      },
      "source": [
        "# trying ordinal encoding, imputing data and apply random forest\n",
        "from sklearn.pipeline import make_pipeline\n",
        "import category_encoders as ce\n",
        "from sklearn.impute import SimpleImputer\n",
        "from sklearn.ensemble import RandomForestClassifier\n",
        "\n",
        "pipeline3 = make_pipeline(\n",
        "    ce.OrdinalEncoder(),\n",
        "    SimpleImputer(strategy='median'),\n",
        "    RandomForestClassifier(random_state=50, n_jobs=-1)\n",
        "  )\n",
        "\n",
        "# Fitting on train, score on validate\n",
        "pipeline3.fit(X_train, y_train)\n",
        "\n",
        "#prediction on X_test\n",
        "y_pred3 = pipeline3.predict(X_test)\n",
        "\n",
        "#predict probabilities for the test set.\n",
        "y_pred_proba3 = pipeline3.predict_proba(X_test)[:, -1]\n",
        "\n",
        "# accuracy is kinda the times the guest try\n",
        "print('Validation Accuracy', pipeline3.score(X_validate, y_validate))\n",
        "print('Test ROC AUC score', roc_auc_score(y_test, y_pred_proba3))"
      ],
      "execution_count": null,
      "outputs": [
        {
          "output_type": "stream",
          "text": [
            "Validation Accuracy 0.9642857142857143\n",
            "Test ROC AUC score 0.999609375\n"
          ],
          "name": "stdout"
        }
      ]
    },
    {
      "cell_type": "markdown",
      "metadata": {
        "id": "t4q87M5fwqfq"
      },
      "source": [
        "Confusion Matrix plot with Random Forest"
      ]
    },
    {
      "cell_type": "code",
      "metadata": {
        "colab": {
          "base_uri": "https://localhost:8080/",
          "height": 305
        },
        "id": "k8UfgLcAEk7H",
        "outputId": "deaa6e1d-8db4-4f24-9d12-aeb41422b5bb"
      },
      "source": [
        "from sklearn.metrics import plot_confusion_matrix\n",
        "\n",
        "Classes = ['passed', 'Failed']\n",
        "plot_confusion_matrix(pipeline3, X_validate, y_validate,\n",
        "                      values_format='.0f', xticks_rotation='vertical',\n",
        "                      display_labels=Classes);"
      ],
      "execution_count": null,
      "outputs": [
        {
          "output_type": "display_data",
          "data": {
            "image/png": "[encoded data removed]",
            "text/plain": [
              "<Figure size 432x288 with 2 Axes>"
            ]
          },
          "metadata": {
            "tags": [],
            "needs_background": "light"
          }
        }
      ]
    },
    {
      "cell_type": "markdown",
      "metadata": {
        "id": "vmJlOP0fw5rH"
      },
      "source": [
        "Classification report with Random Forest"
      ]
    },
    {
      "cell_type": "code",
      "metadata": {
        "colab": {
          "base_uri": "https://localhost:8080/"
        },
        "id": "7E3aZ4q0w_rQ",
        "outputId": "9a7ef1f5-bc88-4f43-b5f3-9fd5d530db75"
      },
      "source": [
        "\n",
        "from sklearn.metrics import classification_report\n",
        "print(classification_report(y_test, y_pred3))"
      ],
      "execution_count": null,
      "outputs": [
        {
          "output_type": "stream",
          "text": [
            "              precision    recall  f1-score   support\n",
            "\n",
            "    Negative       0.95      1.00      0.98        40\n",
            "    Positive       1.00      0.97      0.98        64\n",
            "\n",
            "    accuracy                           0.98       104\n",
            "   macro avg       0.98      0.98      0.98       104\n",
            "weighted avg       0.98      0.98      0.98       104\n",
            "\n"
          ],
          "name": "stdout"
        }
      ]
    }
  ]
}